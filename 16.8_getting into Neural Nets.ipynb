{
 "cells": [
  {
   "cell_type": "markdown",
   "id": "a6371eaa-a716-4251-9c86-e8772b831629",
   "metadata": {},
   "source": [
    "# 16.8 Getting into Neural Nets"
   ]
  },
  {
   "cell_type": "code",
   "execution_count": null,
   "id": "2b268b83-1d62-4abe-b0b9-8ddb0753072e",
   "metadata": {},
   "outputs": [],
   "source": [
    "import tensorflow as tf\n",
    "from tensorflow import keras"
   ]
  },
  {
   "cell_type": "code",
   "execution_count": null,
   "id": "fb37edb3-02ca-4e60-aaf8-0bbc6b900172",
   "metadata": {},
   "outputs": [],
   "source": [
    "fashion_mnist=keras.datasets.fashion_mnist"
   ]
  },
  {
   "cell_type": "code",
   "execution_count": null,
   "id": "e57e6f39-dc77-4ec0-9cf9-4a81af19e275",
   "metadata": {},
   "outputs": [],
   "source": [
    "(X_train_full, y_train_full),(X_test,y_test)=fashion_mnist.load_data()"
   ]
  },
  {
   "cell_type": "code",
   "execution_count": null,
   "id": "5d3d25eb-7068-42a6-b100-4d917e63d312",
   "metadata": {},
   "outputs": [],
   "source": [
    "X_train_full.shape"
   ]
  },
  {
   "cell_type": "markdown",
   "id": "5f966f33-414e-4c21-b52d-d0d4355404df",
   "metadata": {},
   "source": [
    "\"When loading MNIST or Fashion MNIST using Keras rather than Scikit-Learn, one\n",
    "important difference is that every image is represented as a 28 × 28 array rather than\n",
    "a 1D array of size 784. Moreover, the pixel intensities are represented as integers\n",
    "(from 0 to 255) rather than floats (from 0.0 to 255.0)\"\n",
    "Why is that exactly? Well, for machine learning (SVM and so on), we do not really care what position and what image we have, since we DO NOT CARE ABOUT PATERNS. But in Deep Nets we have it!"
   ]
  },
  {
   "cell_type": "markdown",
   "id": "a1ef2f66-521e-4855-9c88-ed767e7eccc6",
   "metadata": {},
   "source": [
    "validation ,training sets:"
   ]
  },
  {
   "cell_type": "code",
   "execution_count": null,
   "id": "ad16c761-e421-428a-a9ac-f1e16de9c833",
   "metadata": {},
   "outputs": [],
   "source": [
    "X_valid,X_train=X_train_full[:5000]/255.0,X_train_full[5000:]/255.0\n",
    "y_valid,y_train=y_train_full[:5000],y_train_full[5000:]"
   ]
  },
  {
   "cell_type": "code",
   "execution_count": null,
   "id": "199f1ebe-2d78-4fe8-9316-891035b15fd0",
   "metadata": {},
   "outputs": [],
   "source": [
    "class_names = [\"T-shirt/top\", \"Trouser\", \"Pullover\", \"Dress\", \"Coat\",\n",
    "\"Sandal\", \"Shirt\", \"Sneaker\", \"Bag\", \"Ankle boot\"]"
   ]
  },
  {
   "cell_type": "code",
   "execution_count": null,
   "id": "b9e3add0-c537-43b9-b992-80a13814c888",
   "metadata": {},
   "outputs": [],
   "source": [
    "import matplotlib.pyplot as plt\n",
    "plt.imshow(X_train[0], cmap=\"binary\")"
   ]
  },
  {
   "cell_type": "markdown",
   "id": "f24417b2-43f8-400e-97a1-46772baf19ac",
   "metadata": {},
   "source": [
    "### building the Network"
   ]
  },
  {
   "cell_type": "code",
   "execution_count": null,
   "id": "3adf090a-2ca0-47e4-bde0-148c4f6373f8",
   "metadata": {},
   "outputs": [],
   "source": [
    "model=keras.models.Sequential()\n",
    "model.add(keras.layers.Flatten(input_shape=[28,28]))\n",
    "model.add(keras.layers.Dense(300,activation=\"relu\"))\n",
    "model.add(keras.layers.Dense(100,activation=\"relu\"))\n",
    "model.add(keras.layers.Dense(10,activation=\"softmax\"))\n",
    "\n",
    "          "
   ]
  },
  {
   "cell_type": "code",
   "execution_count": null,
   "id": "d86a8552-8e54-462f-a745-0afcca86e70f",
   "metadata": {},
   "outputs": [],
   "source": [
    "model.summary()\n",
    "#note: 235500=784*300 (weights from the input neurons)+300 (bias terms)"
   ]
  },
  {
   "cell_type": "code",
   "execution_count": null,
   "id": "f4cf995f-57cc-4827-9271-e77e6a4fa0f8",
   "metadata": {},
   "outputs": [],
   "source": [
    "keras.utils.plot_model(model)"
   ]
  },
  {
   "cell_type": "code",
   "execution_count": null,
   "id": "e4d8e49a-73fd-4d07-bbb7-31c143584552",
   "metadata": {},
   "outputs": [],
   "source": [
    "hidden1=model.layers[1]"
   ]
  },
  {
   "cell_type": "code",
   "execution_count": null,
   "id": "2a677a3d-ecf0-40e5-b738-d9cad01e7e8b",
   "metadata": {},
   "outputs": [],
   "source": [
    "hidden1.name"
   ]
  },
  {
   "cell_type": "code",
   "execution_count": null,
   "id": "cfb22436",
   "metadata": {},
   "outputs": [],
   "source": [
    "weights, biases=hidden1.get_weights()"
   ]
  },
  {
   "cell_type": "code",
   "execution_count": null,
   "id": "e653e0a4",
   "metadata": {},
   "outputs": [],
   "source": [
    "biases"
   ]
  },
  {
   "cell_type": "code",
   "execution_count": null,
   "id": "70212cac",
   "metadata": {},
   "outputs": [],
   "source": [
    "y_valid.shape"
   ]
  },
  {
   "cell_type": "code",
   "execution_count": null,
   "id": "81cd0dce",
   "metadata": {},
   "outputs": [],
   "source": [
    "model.compile(loss=\"sparse_categorical_crossentropy\",\n",
    "             optimizer=\"sgd\", #stochastic gradient descent\n",
    "             metrics=[\"accuracy\"])"
   ]
  },
  {
   "cell_type": "code",
   "execution_count": null,
   "id": "8bd22c75",
   "metadata": {
    "jupyter": {
     "outputs_hidden": true
    },
    "scrolled": true
   },
   "outputs": [],
   "source": [
    "history=model.fit(X_train,y_train,epochs=30, validation_data=(X_valid,y_valid))"
   ]
  },
  {
   "cell_type": "code",
   "execution_count": null,
   "id": "89e240b4",
   "metadata": {},
   "outputs": [],
   "source": [
    "history.params"
   ]
  },
  {
   "cell_type": "code",
   "execution_count": null,
   "id": "df38b9d2",
   "metadata": {},
   "outputs": [],
   "source": [
    "import numpy as np\n",
    "\n",
    "x= np.linspace(1,30,30)\n"
   ]
  },
  {
   "cell_type": "code",
   "execution_count": null,
   "id": "beeb8d81",
   "metadata": {},
   "outputs": [],
   "source": [
    "\n",
    "fig,ax=plt.subplots(figsize=(15,5))\n",
    "for i in history.history.keys():\n",
    "    ax.plot(x,history.history[i],label=i)\n",
    "ax.legend()"
   ]
  },
  {
   "cell_type": "code",
   "execution_count": null,
   "id": "bad19588",
   "metadata": {},
   "outputs": [],
   "source": [
    "history=model.fit(X_train,y_train,epochs=10, validation_data=(X_valid,y_valid))"
   ]
  },
  {
   "cell_type": "code",
   "execution_count": null,
   "id": "c335b985",
   "metadata": {},
   "outputs": [],
   "source": [
    "x=np.linspace(1,10,10)\n",
    "fig,ax=plt.subplots(figsize=(15,5))\n",
    "for i in history.history.keys():\n",
    "    ax.plot(x,history.history[i],label=i)\n",
    "ax.legend()"
   ]
  },
  {
   "cell_type": "code",
   "execution_count": null,
   "id": "185ff361",
   "metadata": {},
   "outputs": [],
   "source": [
    "model.evaluate(X_test,y_test)"
   ]
  },
  {
   "cell_type": "code",
   "execution_count": null,
   "id": "d4c52610",
   "metadata": {},
   "outputs": [],
   "source": [
    "X_new=X_test[:2]"
   ]
  },
  {
   "cell_type": "code",
   "execution_count": null,
   "id": "959a2201",
   "metadata": {},
   "outputs": [],
   "source": [
    "y_pred=model.predict(X_new)"
   ]
  },
  {
   "cell_type": "code",
   "execution_count": null,
   "id": "9c1c0dca",
   "metadata": {},
   "outputs": [],
   "source": [
    "y_pred = np.argmax(model.predict(X_new), axis=-1)\n",
    "y_pred"
   ]
  },
  {
   "cell_type": "code",
   "execution_count": null,
   "id": "2e282888",
   "metadata": {},
   "outputs": [],
   "source": [
    "np.array(class_names)[y_pred]"
   ]
  },
  {
   "cell_type": "code",
   "execution_count": null,
   "id": "949f142c",
   "metadata": {},
   "outputs": [],
   "source": [
    "y_test[:3]"
   ]
  },
  {
   "cell_type": "code",
   "execution_count": null,
   "id": "88cb7047",
   "metadata": {},
   "outputs": [],
   "source": [
    "from keras.preprocessing.image import load_img\n",
    "from keras.preprocessing.image import img_to_array\n",
    "img = load_img(\"hoodie.png\",\"channels_first\")\n",
    "data = img_to_array(img)\n"
   ]
  },
  {
   "cell_type": "code",
   "execution_count": null,
   "id": "91ffbbaf",
   "metadata": {},
   "outputs": [],
   "source": [
    "data_3=data[:,:,2]/255.0"
   ]
  },
  {
   "cell_type": "code",
   "execution_count": null,
   "id": "480c2014",
   "metadata": {},
   "outputs": [],
   "source": [
    "data_1_2=np.stack((data_1, data_2,data_3))"
   ]
  },
  {
   "cell_type": "code",
   "execution_count": null,
   "id": "98aa7854",
   "metadata": {},
   "outputs": [],
   "source": [
    "a=np.array([[[1,2,3],\n",
    "            [4,5,6],\n",
    "            [7,8,9]],\n",
    "           [[10,11,12],\n",
    "            [13,14,15],\n",
    "            [16,17,18]]])\n",
    "#I want from (2,3,3)-> (3,3,2)"
   ]
  },
  {
   "cell_type": "code",
   "execution_count": null,
   "id": "8a03ea78",
   "metadata": {},
   "outputs": [],
   "source": [
    "a.shape"
   ]
  },
  {
   "cell_type": "code",
   "execution_count": null,
   "id": "6f040351",
   "metadata": {},
   "outputs": [],
   "source": [
    "a=a.reshape(3,3,2)\n",
    "a"
   ]
  },
  {
   "cell_type": "code",
   "execution_count": null,
   "id": "f3d377ee",
   "metadata": {},
   "outputs": [],
   "source": [
    "data_1.shape\n",
    "#data_1.reshape(2,28,28)"
   ]
  },
  {
   "cell_type": "code",
   "execution_count": null,
   "id": "ea673823",
   "metadata": {},
   "outputs": [],
   "source": [
    "X_new.shape"
   ]
  },
  {
   "cell_type": "code",
   "execution_count": null,
   "id": "0c69363d",
   "metadata": {},
   "outputs": [],
   "source": [
    "data_1_pred=model.predict(data_1_2)"
   ]
  },
  {
   "cell_type": "code",
   "execution_count": null,
   "id": "3fa4034c",
   "metadata": {},
   "outputs": [],
   "source": [
    "data_1_pred\n"
   ]
  },
  {
   "cell_type": "code",
   "execution_count": null,
   "id": "68cf2775",
   "metadata": {},
   "outputs": [],
   "source": [
    "np.argmax(data_1_pred,axis=-1)"
   ]
  },
  {
   "cell_type": "code",
   "execution_count": null,
   "id": "420a983e",
   "metadata": {},
   "outputs": [],
   "source": [
    "#class_names\n",
    "plt.imshow(data_1_2[2]*255,cmap=\"binary\")"
   ]
  },
  {
   "cell_type": "markdown",
   "id": "3acf9337",
   "metadata": {},
   "source": [
    "## Use Tensorboad to visualise it!"
   ]
  },
  {
   "cell_type": "code",
   "execution_count": null,
   "id": "6907dca3",
   "metadata": {},
   "outputs": [],
   "source": [
    "import os\n",
    "root_logdir=os.path.join(os.curdir,\"my_logs\")\n",
    "\n",
    "def get_run_logdir():\n",
    "    import time\n",
    "    run_id = time.strftime(\"run_%Y_%m_%d-%H_%M_%S\")\n",
    "    return os.path.join(root_logdir, run_id)\n",
    "\n",
    "run_logdir = get_run_logdir()\n",
    "run_logdir"
   ]
  },
  {
   "cell_type": "markdown",
   "id": "6c9c62bd-95ca-44a6-a18a-19598b9fa378",
   "metadata": {},
   "source": [
    "# 17.8 Regression MLP"
   ]
  },
  {
   "cell_type": "code",
   "execution_count": null,
   "id": "87b58537-f18b-419c-8c2d-6c32be60a963",
   "metadata": {},
   "outputs": [],
   "source": [
    "from sklearn.datasets import fetch_california_housing\n",
    "from sklearn.model_selection import train_test_split\n",
    "from sklearn.preprocessing import StandardScaler\n",
    "\n",
    "housing=fetch_california_housing()\n",
    "X_train_full, X_test, y_train_full, y_test=train_test_split(housing.data,housing.target)\n",
    "X_train,X_valid,y_train,y_valid=train_test_split(X_train_full, y_train_full)"
   ]
  },
  {
   "cell_type": "code",
   "execution_count": null,
   "id": "c8a9aefc-a1f3-460c-af34-6e2afe21e655",
   "metadata": {},
   "outputs": [],
   "source": [
    "scaler=StandardScaler()"
   ]
  },
  {
   "cell_type": "code",
   "execution_count": null,
   "id": "920b9367-4da7-4a65-89ca-0a036d00fe5d",
   "metadata": {},
   "outputs": [],
   "source": [
    "#use the Scaler to standartize the values!\n",
    "X_train=scaler.fit_transform(X_train)\n",
    "X_valid=scaler.transform(X_valid)\n",
    "X_test=scaler.transform(X_test)"
   ]
  },
  {
   "cell_type": "code",
   "execution_count": null,
   "id": "f3f11413-e7c9-4247-b5b7-8e5703cd63c6",
   "metadata": {},
   "outputs": [],
   "source": [
    "X_train.shape"
   ]
  },
  {
   "cell_type": "code",
   "execution_count": null,
   "id": "c0763bbd-ba5d-4d23-8b76-e24bf6f9f468",
   "metadata": {},
   "outputs": [],
   "source": [
    "# build the NEt\n",
    "model=keras.models.Sequential([keras.layers.Dense(30, activation=\"relu\", input_shape=X_train.shape[1:]),\n",
    "    keras.layers.Dense(1)])\n",
    "#1 output layer, because we need just one single value after the regression\n",
    "model.compile(loss=\"mean_squared_error\",optimizer=\"sgd\")\n"
   ]
  },
  {
   "cell_type": "code",
   "execution_count": null,
   "id": "97804cc4-e9f9-4bad-a7c7-3fa6c95d866a",
   "metadata": {},
   "outputs": [],
   "source": [
    "#fitting the model\n",
    "history=model.fit(X_train,y_train, validation_data=(X_valid, y_valid),epochs=20)"
   ]
  },
  {
   "cell_type": "code",
   "execution_count": null,
   "id": "4da94b92",
   "metadata": {},
   "outputs": [],
   "source": [
    "model.save(\"class.h5\")"
   ]
  },
  {
   "cell_type": "code",
   "execution_count": null,
   "id": "6922f701-76e7-4706-af7b-2a4be7b16eeb",
   "metadata": {},
   "outputs": [],
   "source": [
    "#history.history"
   ]
  },
  {
   "cell_type": "code",
   "execution_count": null,
   "id": "ad44065c-4ab6-4264-aaa2-2d72f34bbd09",
   "metadata": {},
   "outputs": [],
   "source": [
    "import matplotlib.pyplot as plt\n",
    "import pandas as pd\n",
    "plt.plot(pd.DataFrame(history.history))"
   ]
  },
  {
   "cell_type": "code",
   "execution_count": null,
   "id": "c7e239d4-b322-4a7b-8621-7b333f3879fd",
   "metadata": {},
   "outputs": [],
   "source": [
    "X_new=X_test[:3]"
   ]
  },
  {
   "cell_type": "code",
   "execution_count": null,
   "id": "a9525091-a814-4da7-b2ca-d417118ade0b",
   "metadata": {},
   "outputs": [],
   "source": [
    "#y_pred=model.predict(X_new)\n",
    "model_loaded.predict(X_new)"
   ]
  },
  {
   "cell_type": "code",
   "execution_count": null,
   "id": "aca7070e-1850-4a62-8a8a-3d61a6e2c212",
   "metadata": {},
   "outputs": [],
   "source": [
    "#relative error on each value\n",
    "(y_test[:3] - y_pred.flatten())/y_test[:3] *100"
   ]
  },
  {
   "cell_type": "code",
   "execution_count": null,
   "id": "72d333f9-fed7-4968-bb97-b00bf6505b2c",
   "metadata": {},
   "outputs": [],
   "source": [
    "model.summary()\n",
    "#basically here we have one inputs layer(not shown), and then first hidden layer with 30 Neurons; and then the output! THAT SI IT!"
   ]
  },
  {
   "cell_type": "markdown",
   "id": "2a852277-95bc-4fe1-a5bd-36b01ab79766",
   "metadata": {},
   "source": [
    "## Functional API"
   ]
  },
  {
   "cell_type": "code",
   "execution_count": null,
   "id": "5e88e012-8828-46a4-ba38-733ee9aa6b3c",
   "metadata": {},
   "outputs": [],
   "source": [
    "# build a model with NOT Sequential Architecture with Functional API"
   ]
  },
  {
   "cell_type": "code",
   "execution_count": null,
   "id": "61a8bf07-b8ee-478b-910e-e84c6e69a4db",
   "metadata": {},
   "outputs": [],
   "source": [
    "input_=keras.layers.Input(shape=X_train.shape[1:])\n",
    "hidden1=keras.layers.Dense(30,activation=\"relu\")(input_)\n",
    "hidden2=keras.layers.Dense(30,activation=\"relu\")(hidden1)\n",
    "concat=keras.layers.concatenate([input_,hidden2])\n",
    "output=keras.layers.Dense(1)(concat)\n",
    "model=keras.models.Model(inputs=[input_],outputs=[output])"
   ]
  },
  {
   "cell_type": "code",
   "execution_count": null,
   "id": "d62bfd03-8f7a-4367-899c-b1758830ff8a",
   "metadata": {},
   "outputs": [],
   "source": [
    "model.summary()"
   ]
  },
  {
   "cell_type": "code",
   "execution_count": null,
   "id": "2f5f6e98-b6e3-4d6e-bae0-b87ceed00651",
   "metadata": {},
   "outputs": [],
   "source": [
    "model.compile(loss=\"mean_squared_error\", optimizer=keras.optimizers.SGD(learning_rate=1e-3))\n",
    "history = model.fit(X_train, y_train, epochs=20,\n",
    "                    validation_data=(X_valid, y_valid))\n",
    "mse_test = model.evaluate(X_test, y_test)\n",
    "y_pred = model.predict(X_new)"
   ]
  },
  {
   "cell_type": "code",
   "execution_count": null,
   "id": "ce15e3fb-cee3-4115-8664-60f4e84be93e",
   "metadata": {},
   "outputs": [],
   "source": [
    "print(\"y_pred=\",y_pred)\n",
    "print(\"y_test=\",y_test[:3])"
   ]
  },
  {
   "cell_type": "markdown",
   "id": "5f0a8baa-05b6-4cb3-80c2-21c1ef563aba",
   "metadata": {},
   "source": [
    "NOT! that particulary GREAT"
   ]
  },
  {
   "cell_type": "code",
   "execution_count": null,
   "id": "038f4c1e-afba-476c-9fc8-4845f18270b8",
   "metadata": {},
   "outputs": [],
   "source": [
    "#######another architercture:"
   ]
  },
  {
   "cell_type": "code",
   "execution_count": null,
   "id": "a9414c81-5ad6-42cd-9314-8ebbc1aaf52d",
   "metadata": {},
   "outputs": [],
   "source": [
    "input_A=keras.layers.Input(shape=[5], name=\"wide path\")\n",
    "input_B=keras.layers.Input(shape=[6], name=\"deep input\")\n",
    "hidden1=keras.layers.Dense(30, activation=\"relu\")(input_B)\n",
    "hidden2=keras.layers.Dense(30,activation=\"relu\")(hidden1)\n",
    "concat=keras.layers.concatenate([input_A,hidden2])\n",
    "output=keras.layers.Dense(1,name=\"output\")(concat)\n",
    "model=keras.models.Model(inputs=[input_A, input_B], outputs=[output])"
   ]
  },
  {
   "cell_type": "code",
   "execution_count": null,
   "id": "51fabb9f-186e-47e5-b6f2-dc48833d8215",
   "metadata": {},
   "outputs": [],
   "source": [
    "model.compile(loss=\"mse\", optimizer=keras.optimizers.SGD(learning_rate=1e-3))\n",
    "\n",
    "X_train_A, X_train_B = X_train[:, :5], X_train[:, 2:]\n",
    "X_valid_A, X_valid_B = X_valid[:, :5], X_valid[:, 2:]\n",
    "X_test_A, X_test_B = X_test[:, :5], X_test[:, 2:]\n",
    "X_new_A, X_new_B = X_test_A[:3], X_test_B[:3]\n",
    "\n",
    "history = model.fit((X_train_A, X_train_B), y_train, epochs=20,\n",
    "                    validation_data=((X_valid_A, X_valid_B), y_valid))\n",
    "mse_test = model.evaluate((X_test_A, X_test_B), y_test)\n",
    "y_pred = model.predict((X_new_A, X_new_B))"
   ]
  },
  {
   "cell_type": "code",
   "execution_count": null,
   "id": "8eb0ad7a-3a1f-4a19-830d-e6fc6d6747f5",
   "metadata": {},
   "outputs": [],
   "source": [
    "input_A = keras.layers.Input(shape=[5], name=\"wide_input\")\n",
    "input_B = keras.layers.Input(shape=[6], name=\"deep_input\")\n",
    "hidden1 = keras.layers.Dense(30, activation=\"relu\")(input_B)\n",
    "hidden2 = keras.layers.Dense(30, activation=\"relu\")(hidden1)\n",
    "concat = keras.layers.concatenate([input_A, hidden2])\n",
    "output = keras.layers.Dense(1, name=\"main_output\")(concat)\n",
    "aux_output = keras.layers.Dense(1, name=\"aux_output\")(hidden2)\n",
    "model = keras.models.Model(inputs=[input_A, input_B],\n",
    "                           outputs=[output, aux_output])\n",
    "\n",
    "#new output layer"
   ]
  },
  {
   "cell_type": "code",
   "execution_count": null,
   "id": "1d4d40a5-749d-4bb8-932f-80f43d902713",
   "metadata": {},
   "outputs": [],
   "source": [
    "model.compile(loss=[\"mse\", \"mse\"], loss_weights=[0.9, 0.1], optimizer=keras.optimizers.SGD(learning_rate=1e-3))\n"
   ]
  },
  {
   "cell_type": "code",
   "execution_count": null,
   "id": "50c629cd-de60-466e-8588-d0bd2fecf305",
   "metadata": {},
   "outputs": [],
   "source": [
    "history = model.fit([X_train_A, X_train_B], [y_train, y_train], epochs=20,\n",
    "                    validation_data=([X_valid_A, X_valid_B], [y_valid, y_valid]))"
   ]
  },
  {
   "cell_type": "code",
   "execution_count": null,
   "id": "e8afd36c-4658-4096-95d9-4e1f343d66fc",
   "metadata": {},
   "outputs": [],
   "source": [
    "total_loss, main_loss, aux_loss = model.evaluate(\n",
    "    [X_test_A, X_test_B], [y_test, y_test])\n",
    "y_pred_main, y_pred_aux = model.predict([X_new_A, X_new_B])"
   ]
  },
  {
   "cell_type": "code",
   "execution_count": null,
   "id": "d2293755-2bcf-4650-afb8-ec1d3beb9a1a",
   "metadata": {},
   "outputs": [],
   "source": [
    "y_pred_main"
   ]
  },
  {
   "cell_type": "code",
   "execution_count": null,
   "id": "f584ccc3-141a-47dd-b811-b80205032581",
   "metadata": {},
   "outputs": [],
   "source": [
    "from tensorflow.keras.models import load_model\n",
    "\n",
    "model.save(\"my_keras_model.h5\")"
   ]
  },
  {
   "cell_type": "code",
   "execution_count": null,
   "id": "3ae3f9e6-7366-49ae-99ec-276f8b1f4998",
   "metadata": {},
   "outputs": [],
   "source": []
  },
  {
   "cell_type": "code",
   "execution_count": null,
   "id": "6aa09c3c-9a54-48c7-8e6c-347083adca31",
   "metadata": {},
   "outputs": [],
   "source": []
  },
  {
   "cell_type": "code",
   "execution_count": null,
   "id": "e58e95fd-844c-487d-b2c6-1c690a0b5679",
   "metadata": {},
   "outputs": [],
   "source": [
    "import numpy as np\n",
    "from sklearn import datasets\n",
    "from sklearn.pipeline import Pipeline\n",
    "from sklearn.preprocessing import StandardScaler\n",
    "from sklearn.linear_model import SGDClassifier\n",
    "\n",
    "iris=datasets.load_iris()"
   ]
  },
  {
   "cell_type": "code",
   "execution_count": null,
   "id": "3d46f11d-609f-4720-a9ca-7af8517763c1",
   "metadata": {},
   "outputs": [],
   "source": [
    "X=iris[\"data\"][:,(2,3)]\n",
    "y=(iris[\"target\"]==2).astype(np.float64)"
   ]
  },
  {
   "cell_type": "code",
   "execution_count": null,
   "id": "84422b4a-4119-4955-8b5a-21faae863f09",
   "metadata": {},
   "outputs": [],
   "source": [
    "X.shape"
   ]
  },
  {
   "cell_type": "code",
   "execution_count": null,
   "id": "afdf0009-70cc-4d16-8955-3357685583d3",
   "metadata": {},
   "outputs": [],
   "source": [
    "svm_clf=Pipeline([\n",
    "    (\"scaler\",StandardScaler()),\n",
    "    (\"linear_svc\", SGDClassifier(loss=\"hinge\")),\n",
    "])\n",
    "svm_clf.fit(X,y)"
   ]
  },
  {
   "cell_type": "code",
   "execution_count": null,
   "id": "21dde1ce-ec40-4970-9006-8ff5176079e4",
   "metadata": {},
   "outputs": [],
   "source": [
    "svm_clf.predict([[5.5,1.7]])"
   ]
  },
  {
   "cell_type": "code",
   "execution_count": null,
   "id": "1adf2dc4-dd32-4ec0-bc0a-bfaccb8fe241",
   "metadata": {},
   "outputs": [],
   "source": [
    "from sklearn.svm import SVR"
   ]
  },
  {
   "cell_type": "code",
   "execution_count": null,
   "id": "44387a11-8910-4b5f-bbca-278517c84f17",
   "metadata": {},
   "outputs": [],
   "source": [
    "np.random.seed(42)\n",
    "m = 50\n",
    "X = 2 * np.random.rand(m, 1)\n",
    "y = (4 + 3 * X + np.random.randn(m, 1)).ravel()"
   ]
  },
  {
   "cell_type": "code",
   "execution_count": null,
   "id": "b098206e-3dbd-4a21-a008-96f0dc1ad170",
   "metadata": {},
   "outputs": [],
   "source": [
    "svr=SVR(epsilon=1.5,kernel=\"linear\")\n",
    "svr.fit(X,y)"
   ]
  },
  {
   "cell_type": "code",
   "execution_count": null,
   "id": "c51f4c26-e1f4-45a1-9174-8d5f79d581d1",
   "metadata": {},
   "outputs": [],
   "source": [
    "y_predict=svr.predict(X)\n",
    "plt.scatter(X,y, label=\"data\")\n",
    "plt.plot(X,y_predict,label=\"predicted\")\n",
    "plt.plot(X,y_predict+svr.epsilon,label=\"upper\")\n",
    "plt.plot(X,y_predict-svr.epsilon,label=\"lower\")\n",
    "#plt.scatter(X[svr.support_],y[svr.support_] )\n",
    "plt.legend()"
   ]
  },
  {
   "cell_type": "code",
   "execution_count": null,
   "id": "a8d26bd1-ce77-46b0-8f87-94291bc4345a",
   "metadata": {},
   "outputs": [],
   "source": [
    "X[svr.support_]"
   ]
  },
  {
   "cell_type": "code",
   "execution_count": null,
   "id": "8c3ebb4d-61bc-42cd-96db-8825a71d186d",
   "metadata": {},
   "outputs": [],
   "source": [
    "svm_reg1 = LinearSVR(epsilon=1.5, random_state=42)\n",
    "svm_reg2 = LinearSVR(epsilon=0.5, random_state=42)\n",
    "svm_reg1.fit(X, y)\n",
    "svm_reg2.fit(X, y)\n",
    "\n",
    "def find_support_vectors(svm_reg, X, y):\n",
    "    y_pred = svm_reg.predict(X)\n",
    "    off_margin = (np.abs(y - y_pred) >= svm_reg.epsilon)\n",
    "    return np.argwhere(off_margin)\n",
    "\n",
    "svm_reg1.support_ = find_support_vectors(svm_reg1, X, y)\n",
    "svm_reg2.support_ = find_support_vectors(svm_reg2, X, y)\n",
    "\n",
    "eps_x1 = 1\n",
    "eps_y_pred = svm_reg1.predict([[eps_x1]])"
   ]
  },
  {
   "cell_type": "code",
   "execution_count": null,
   "id": "24b34824-b753-4c77-97d9-6bed195fd1ec",
   "metadata": {},
   "outputs": [],
   "source": [
    "def plot_svm_regression(svm_reg, X, y, axes):\n",
    "    x1s = np.linspace(axes[0], axes[1], 100).reshape(100, 1)\n",
    "    y_pred = svm_reg.predict(x1s)\n",
    "    plt.plot(x1s, y_pred, \"k-\", linewidth=2, label=r\"$\\hat{y}$\")\n",
    "    plt.plot(x1s, y_pred + svm_reg.epsilon, \"k--\")\n",
    "    plt.plot(x1s, y_pred - svm_reg.epsilon, \"k--\")\n",
    "    plt.scatter(X[svm_reg.support_], y[svm_reg.support_], s=180, facecolors='#FFAAAA')\n",
    "    plt.plot(X, y, \"bo\")\n",
    "    plt.xlabel(r\"$x_1$\", fontsize=18)\n",
    "    plt.legend(loc=\"upper left\", fontsize=18)\n",
    "    plt.axis(axes)\n",
    "\n",
    "fig, axes = plt.subplots(ncols=2, figsize=(9, 4), sharey=True)\n",
    "plt.sca(axes[0])\n",
    "plot_svm_regression(svm_reg1, X, y, [0, 2, 3, 11])\n",
    "plt.title(r\"$\\epsilon = {}$\".format(svm_reg1.epsilon), fontsize=18)\n",
    "plt.ylabel(r\"$y$\", fontsize=18, rotation=0)\n",
    "#plt.plot([eps_x1, eps_x1], [eps_y_pred, eps_y_pred - svm_reg1.epsilon], \"k-\", linewidth=2)\n",
    "plt.annotate(\n",
    "        '', xy=(eps_x1, eps_y_pred), xycoords='data',\n",
    "        xytext=(eps_x1, eps_y_pred - svm_reg1.epsilon),\n",
    "        textcoords='data', arrowprops={'arrowstyle': '<->', 'linewidth': 1.5}\n",
    "    )\n",
    "plt.text(0.91, 5.6, r\"$\\epsilon$\", fontsize=20)\n",
    "plt.sca(axes[1])\n",
    "plot_svm_regression(svm_reg2, X, y, [0, 2, 3, 11])\n",
    "plt.title(r\"$\\epsilon = {}$\".format(svm_reg2.epsilon), fontsize=18)\n",
    "save_fig(\"svm_regression_plot\")\n",
    "plt.show()"
   ]
  },
  {
   "cell_type": "code",
   "execution_count": null,
   "id": "d434ca0c",
   "metadata": {},
   "outputs": [],
   "source": []
  },
  {
   "cell_type": "code",
   "execution_count": 21,
   "id": "4561287a",
   "metadata": {},
   "outputs": [
    {
     "data": {
      "text/plain": [
       "[<matplotlib.lines.Line2D at 0x2c39c1646a0>]"
      ]
     },
     "execution_count": 21,
     "metadata": {},
     "output_type": "execute_result"
    },
    {
     "data": {
      "image/png": "[encoded data removed]",
      "text/plain": [
       "<Figure size 432x288 with 1 Axes>"
      ]
     },
     "metadata": {
      "needs_background": "light"
     },
     "output_type": "display_data"
    }
   ],
   "source": [
    "import matplotlib.pyplot as plt\n",
    "import numpy as np\n",
    "x=np.linspace(1,100,10)\n",
    "y=np.log(x)*3\n",
    "plt.plot(x,y)"
   ]
  },
  {
   "cell_type": "code",
   "execution_count": null,
   "id": "396cc2c1",
   "metadata": {},
   "outputs": [],
   "source": []
  }
 ],
 "metadata": {
  "kernelspec": {
   "display_name": "Python 3 (ipykernel)",
   "language": "python",
   "name": "python3"
  },
  "language_info": {
   "codemirror_mode": {
    "name": "ipython",
    "version": 3
   },
   "file_extension": ".py",
   "mimetype": "text/x-python",
   "name": "python",
   "nbconvert_exporter": "python",
   "pygments_lexer": "ipython3",
   "version": "3.8.8"
  },
  "vp": {
   "base_numbering": 1,
   "nav_menu": {},
   "number_sections": true,
   "sideBar": true,
   "title_cell": "VisualPython",
   "title_sidebar": "VisualPython",
   "vpPosition": {
    "height": "calc(100% - 180px)",
    "right": "10px",
    "top": "110px",
    "width": "50%"
   },
   "vp_cell": false,
   "vp_section_display": true,
   "vp_window_display": false
  }
 },
 "nbformat": 4,
 "nbformat_minor": 5
}
