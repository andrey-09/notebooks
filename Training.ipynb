{
 "cells": [
  {
   "cell_type": "markdown",
   "id": "00da68f0",
   "metadata": {},
   "source": [
    "# Normal Equation, Linear Fit\n"
   ]
  },
  {
   "cell_type": "code",
   "execution_count": 4,
   "id": "a85f2443",
   "metadata": {},
   "outputs": [],
   "source": [
    "import matplotlib.pyplot as plt\n",
    "\n"
   ]
  },
  {
   "cell_type": "code",
   "execution_count": 35,
   "id": "d8a02388",
   "metadata": {},
   "outputs": [],
   "source": [
    "import numpy as np\n",
    "X = 2 * np.random.rand(100, 1)\n",
    "y = 4 + 3 * X + np.random.randn(100, 1)"
   ]
  },
  {
   "cell_type": "code",
   "execution_count": 37,
   "id": "464e4595",
   "metadata": {},
   "outputs": [
    {
     "data": {
      "text/plain": [
       "[<matplotlib.lines.Line2D at 0x1f07fcdf9d0>]"
      ]
     },
     "execution_count": 37,
     "metadata": {},
     "output_type": "execute_result"
    },
    {
     "data": {
      "image/png": "[encoded data removed]",
      "text/plain": [
       "<Figure size 432x288 with 1 Axes>"
      ]
     },
     "metadata": {
      "needs_background": "light"
     },
     "output_type": "display_data"
    }
   ],
   "source": [
    "plt.plot(X,y, \"b.\")"
   ]
  },
  {
   "cell_type": "code",
   "execution_count": 39,
   "id": "776be8ae",
   "metadata": {
    "scrolled": true
   },
   "outputs": [
    {
     "data": {
      "text/plain": [
       "(100, 1)"
      ]
     },
     "execution_count": 39,
     "metadata": {},
     "output_type": "execute_result"
    }
   ],
   "source": [
    "X.shape"
   ]
  },
  {
   "cell_type": "code",
   "execution_count": 41,
   "id": "40c36581",
   "metadata": {
    "collapsed": true
   },
   "outputs": [
    {
     "data": {
      "text/plain": [
       "array([[1.        , 1.00787124],\n",
       "       [1.        , 0.62462508],\n",
       "       [1.        , 0.77536968],\n",
       "       [1.        , 1.95658462],\n",
       "       [1.        , 1.12261807],\n",
       "       [1.        , 1.02713328],\n",
       "       [1.        , 1.89364516],\n",
       "       [1.        , 0.58466452],\n",
       "       [1.        , 1.73996989],\n",
       "       [1.        , 0.10747015],\n",
       "       [1.        , 0.35317039],\n",
       "       [1.        , 0.6766967 ],\n",
       "       [1.        , 1.04436411],\n",
       "       [1.        , 0.77999035],\n",
       "       [1.        , 0.12629635],\n",
       "       [1.        , 1.90455105],\n",
       "       [1.        , 0.48788282],\n",
       "       [1.        , 1.34971747],\n",
       "       [1.        , 1.64916821],\n",
       "       [1.        , 0.64057017],\n",
       "       [1.        , 0.66823394],\n",
       "       [1.        , 0.48498856],\n",
       "       [1.        , 1.4851562 ],\n",
       "       [1.        , 0.12447317],\n",
       "       [1.        , 0.31957318],\n",
       "       [1.        , 1.93908266],\n",
       "       [1.        , 1.32848113],\n",
       "       [1.        , 1.35603065],\n",
       "       [1.        , 1.96809157],\n",
       "       [1.        , 1.45431457],\n",
       "       [1.        , 0.87398479],\n",
       "       [1.        , 0.3008259 ],\n",
       "       [1.        , 0.26783798],\n",
       "       [1.        , 1.75656965],\n",
       "       [1.        , 0.99943995],\n",
       "       [1.        , 1.15243846],\n",
       "       [1.        , 0.30246093],\n",
       "       [1.        , 0.68663473],\n",
       "       [1.        , 1.40753255],\n",
       "       [1.        , 1.18617283],\n",
       "       [1.        , 0.55514493],\n",
       "       [1.        , 1.10834273],\n",
       "       [1.        , 0.15663746],\n",
       "       [1.        , 0.09135031],\n",
       "       [1.        , 0.19118593],\n",
       "       [1.        , 0.34692091],\n",
       "       [1.        , 1.39333212],\n",
       "       [1.        , 0.96327983],\n",
       "       [1.        , 0.67324845],\n",
       "       [1.        , 0.15015269],\n",
       "       [1.        , 1.17398334],\n",
       "       [1.        , 0.99839749],\n",
       "       [1.        , 1.4527091 ],\n",
       "       [1.        , 0.44692056],\n",
       "       [1.        , 1.12889062],\n",
       "       [1.        , 1.61823772],\n",
       "       [1.        , 1.90546339],\n",
       "       [1.        , 1.86624792],\n",
       "       [1.        , 0.67742882],\n",
       "       [1.        , 1.58364493],\n",
       "       [1.        , 0.52036697],\n",
       "       [1.        , 1.88944043],\n",
       "       [1.        , 0.4216186 ],\n",
       "       [1.        , 0.22762761],\n",
       "       [1.        , 1.53962683],\n",
       "       [1.        , 0.04473543],\n",
       "       [1.        , 1.17844814],\n",
       "       [1.        , 1.12337623],\n",
       "       [1.        , 0.56033726],\n",
       "       [1.        , 1.8830263 ],\n",
       "       [1.        , 0.87413309],\n",
       "       [1.        , 1.91457832],\n",
       "       [1.        , 1.70824142],\n",
       "       [1.        , 0.01605791],\n",
       "       [1.        , 1.65592931],\n",
       "       [1.        , 1.39618836],\n",
       "       [1.        , 1.36947617],\n",
       "       [1.        , 1.60583967],\n",
       "       [1.        , 0.87752586],\n",
       "       [1.        , 1.46581047],\n",
       "       [1.        , 0.08505709],\n",
       "       [1.        , 1.72264124],\n",
       "       [1.        , 1.08532551],\n",
       "       [1.        , 1.37213899],\n",
       "       [1.        , 0.01825047],\n",
       "       [1.        , 0.75793526],\n",
       "       [1.        , 0.71547892],\n",
       "       [1.        , 0.10158859],\n",
       "       [1.        , 1.56199253],\n",
       "       [1.        , 1.39277555],\n",
       "       [1.        , 1.93217449],\n",
       "       [1.        , 1.5072949 ],\n",
       "       [1.        , 0.56732733],\n",
       "       [1.        , 1.16205651],\n",
       "       [1.        , 0.85927994],\n",
       "       [1.        , 0.20540039],\n",
       "       [1.        , 1.94182353],\n",
       "       [1.        , 0.72021237],\n",
       "       [1.        , 1.94815752],\n",
       "       [1.        , 1.59484434]])"
      ]
     },
     "execution_count": 41,
     "metadata": {},
     "output_type": "execute_result"
    }
   ],
   "source": [
    "np.c_[np.ones((100, 1)), X]"
   ]
  },
  {
   "cell_type": "code",
   "execution_count": 42,
   "id": "f560e173",
   "metadata": {},
   "outputs": [
    {
     "data": {
      "text/plain": [
       "array([[ 0.03910076, -0.02855245],\n",
       "       [-0.02855245,  0.02801448]])"
      ]
     },
     "execution_count": 42,
     "metadata": {},
     "output_type": "execute_result"
    }
   ],
   "source": [
    "np.linalg.inv(np.c_[np.ones((100,1)),X].T.dot(np.c_[np.ones((100,1)),X]))"
   ]
  },
  {
   "cell_type": "code",
   "execution_count": 23,
   "id": "46b724ef",
   "metadata": {},
   "outputs": [
    {
     "ename": "LinAlgError",
     "evalue": "0-dimensional array given. Array must be at least two-dimensional",
     "output_type": "error",
     "traceback": [
      "\u001b[1;31m---------------------------------------------------------------------------\u001b[0m",
      "\u001b[1;31mLinAlgError\u001b[0m                               Traceback (most recent call last)",
      "\u001b[1;32m<ipython-input-23-5b280d3ae81d>\u001b[0m in \u001b[0;36m<module>\u001b[1;34m\u001b[0m\n\u001b[0;32m      1\u001b[0m \u001b[1;31m#normal equation:\u001b[0m\u001b[1;33m\u001b[0m\u001b[1;33m\u001b[0m\u001b[1;33m\u001b[0m\u001b[0m\n\u001b[1;32m----> 2\u001b[1;33m \u001b[0mtheta_best\u001b[0m\u001b[1;33m=\u001b[0m\u001b[0mnp\u001b[0m\u001b[1;33m.\u001b[0m\u001b[0mlinalg\u001b[0m\u001b[1;33m.\u001b[0m\u001b[0minv\u001b[0m\u001b[1;33m(\u001b[0m\u001b[0mX\u001b[0m\u001b[1;33m.\u001b[0m\u001b[0mT\u001b[0m\u001b[1;33m.\u001b[0m\u001b[0mdot\u001b[0m\u001b[1;33m(\u001b[0m\u001b[0mX\u001b[0m\u001b[1;33m)\u001b[0m\u001b[1;33m)\u001b[0m\u001b[1;33m.\u001b[0m\u001b[0mdot\u001b[0m\u001b[1;33m(\u001b[0m\u001b[0mX\u001b[0m\u001b[1;33m.\u001b[0m\u001b[0mT\u001b[0m\u001b[1;33m)\u001b[0m\u001b[1;33m.\u001b[0m\u001b[0mdot\u001b[0m\u001b[1;33m(\u001b[0m\u001b[0my\u001b[0m\u001b[1;33m)\u001b[0m\u001b[1;33m\u001b[0m\u001b[1;33m\u001b[0m\u001b[0m\n\u001b[0m",
      "\u001b[1;32m~\\anaconda3\\lib\\site-packages\\numpy\\core\\overrides.py\u001b[0m in \u001b[0;36minv\u001b[1;34m(*args, **kwargs)\u001b[0m\n",
      "\u001b[1;32m~\\anaconda3\\lib\\site-packages\\numpy\\linalg\\linalg.py\u001b[0m in \u001b[0;36minv\u001b[1;34m(a)\u001b[0m\n\u001b[0;32m    537\u001b[0m     \"\"\"\n\u001b[0;32m    538\u001b[0m     \u001b[0ma\u001b[0m\u001b[1;33m,\u001b[0m \u001b[0mwrap\u001b[0m \u001b[1;33m=\u001b[0m \u001b[0m_makearray\u001b[0m\u001b[1;33m(\u001b[0m\u001b[0ma\u001b[0m\u001b[1;33m)\u001b[0m\u001b[1;33m\u001b[0m\u001b[1;33m\u001b[0m\u001b[0m\n\u001b[1;32m--> 539\u001b[1;33m     \u001b[0m_assert_stacked_2d\u001b[0m\u001b[1;33m(\u001b[0m\u001b[0ma\u001b[0m\u001b[1;33m)\u001b[0m\u001b[1;33m\u001b[0m\u001b[1;33m\u001b[0m\u001b[0m\n\u001b[0m\u001b[0;32m    540\u001b[0m     \u001b[0m_assert_stacked_square\u001b[0m\u001b[1;33m(\u001b[0m\u001b[0ma\u001b[0m\u001b[1;33m)\u001b[0m\u001b[1;33m\u001b[0m\u001b[1;33m\u001b[0m\u001b[0m\n\u001b[0;32m    541\u001b[0m     \u001b[0mt\u001b[0m\u001b[1;33m,\u001b[0m \u001b[0mresult_t\u001b[0m \u001b[1;33m=\u001b[0m \u001b[0m_commonType\u001b[0m\u001b[1;33m(\u001b[0m\u001b[0ma\u001b[0m\u001b[1;33m)\u001b[0m\u001b[1;33m\u001b[0m\u001b[1;33m\u001b[0m\u001b[0m\n",
      "\u001b[1;32m~\\anaconda3\\lib\\site-packages\\numpy\\linalg\\linalg.py\u001b[0m in \u001b[0;36m_assert_stacked_2d\u001b[1;34m(*arrays)\u001b[0m\n\u001b[0;32m    194\u001b[0m     \u001b[1;32mfor\u001b[0m \u001b[0ma\u001b[0m \u001b[1;32min\u001b[0m \u001b[0marrays\u001b[0m\u001b[1;33m:\u001b[0m\u001b[1;33m\u001b[0m\u001b[1;33m\u001b[0m\u001b[0m\n\u001b[0;32m    195\u001b[0m         \u001b[1;32mif\u001b[0m \u001b[0ma\u001b[0m\u001b[1;33m.\u001b[0m\u001b[0mndim\u001b[0m \u001b[1;33m<\u001b[0m \u001b[1;36m2\u001b[0m\u001b[1;33m:\u001b[0m\u001b[1;33m\u001b[0m\u001b[1;33m\u001b[0m\u001b[0m\n\u001b[1;32m--> 196\u001b[1;33m             raise LinAlgError('%d-dimensional array given. Array must be '\n\u001b[0m\u001b[0;32m    197\u001b[0m                     'at least two-dimensional' % a.ndim)\n\u001b[0;32m    198\u001b[0m \u001b[1;33m\u001b[0m\u001b[0m\n",
      "\u001b[1;31mLinAlgError\u001b[0m: 0-dimensional array given. Array must be at least two-dimensional"
     ]
    }
   ],
   "source": [
    "#normal equation:\n",
    "theta_best=np.linalg.inv(X.T.dot(X)).dot(X.T).dot(y)"
   ]
  },
  {
   "cell_type": "code",
   "execution_count": null,
   "id": "5b89e316",
   "metadata": {},
   "outputs": [],
   "source": []
  }
 ],
 "metadata": {
  "kernelspec": {
   "display_name": "Python 3",
   "language": "python",
   "name": "python3"
  },
  "language_info": {
   "codemirror_mode": {
    "name": "ipython",
    "version": 3
   },
   "file_extension": ".py",
   "mimetype": "text/x-python",
   "name": "python",
   "nbconvert_exporter": "python",
   "pygments_lexer": "ipython3",
   "version": "3.8.8"
  },
  "vp": {
   "base_numbering": 1,
   "nav_menu": {},
   "number_sections": true,
   "sideBar": true,
   "title_cell": "VisualPython",
   "title_sidebar": "VisualPython",
   "vpPosition": {
    "height": "calc(100% - 180px)",
    "right": "10px",
    "top": "110px",
    "width": "50%"
   },
   "vp_cell": false,
   "vp_section_display": true,
   "vp_window_display": false
  }
 },
 "nbformat": 4,
 "nbformat_minor": 5
}
