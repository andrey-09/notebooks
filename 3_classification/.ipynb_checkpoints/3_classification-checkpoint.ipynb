{
 "cells": [
  {
   "cell_type": "markdown",
   "id": "25343f7a-555f-478f-be38-d1a7ca799178",
   "metadata": {},
   "source": [
    "# MNIST Dataset. Image Classification"
   ]
  },
  {
   "cell_type": "markdown",
   "id": "c940f13c-fff3-4e94-b4c7-b02f5112442a",
   "metadata": {},
   "source": [
    "Steps:\n",
    "1) Load Data\n",
    "2) visualise it, and preprocess\n",
    "3) encode it, pick a model and train \n",
    "4) fine tune a model\n",
    "5) test_data"
   ]
  },
  {
   "cell_type": "markdown",
   "id": "bf787de5-b5e5-49a8-970e-e5f42660fb64",
   "metadata": {},
   "source": [
    "## Load Data"
   ]
  },
  {
   "cell_type": "code",
   "execution_count": 1,
   "id": "bdc893ce-babe-444c-9ced-d3bf4d20111e",
   "metadata": {},
   "outputs": [],
   "source": [
    "from sklearn.datasets import fetch_openml\n",
    "mnist=fetch_openml(\"mnist_784\",version=1, as_frame=False)"
   ]
  },
  {
   "cell_type": "code",
   "execution_count": 2,
   "id": "bb49dcf7-61a5-4887-b779-146e0f29c33b",
   "metadata": {},
   "outputs": [
    {
     "data": {
      "text/plain": [
       "dict_keys(['data', 'target', 'frame', 'categories', 'feature_names', 'target_names', 'DESCR', 'details', 'url'])"
      ]
     },
     "execution_count": 2,
     "metadata": {},
     "output_type": "execute_result"
    }
   ],
   "source": [
    "mnist.keys()"
   ]
  },
  {
   "cell_type": "markdown",
   "id": "570476ba-46d8-4765-b02e-312e5f55d4cc",
   "metadata": {},
   "source": [
    "## visualise it,"
   ]
  },
  {
   "cell_type": "code",
   "execution_count": 3,
   "id": "81deb217-f5a1-4ba3-b875-b979f9c144ef",
   "metadata": {},
   "outputs": [],
   "source": [
    "import matplotlib.pyplot as plt"
   ]
  },
  {
   "cell_type": "code",
   "execution_count": 4,
   "id": "3e35e23b-527a-48e1-b3fa-526f412962a9",
   "metadata": {},
   "outputs": [],
   "source": [
    "X, y = mnist[\"data\"], mnist[\"target\"]"
   ]
  },
  {
   "cell_type": "code",
   "execution_count": 5,
   "id": "d17148a4-da9a-46af-ad68-522148dafaca",
   "metadata": {},
   "outputs": [],
   "source": [
    "digit=mnist[\"data\"][0]"
   ]
  },
  {
   "cell_type": "code",
   "execution_count": 6,
   "id": "d1b0f061-7413-467b-a5b0-894d6efe353e",
   "metadata": {},
   "outputs": [],
   "source": [
    "digit=digit.reshape(28,28)"
   ]
  },
  {
   "cell_type": "code",
   "execution_count": 7,
   "id": "d7f5c85c-174f-484b-8f1d-83a1230c1a33",
   "metadata": {},
   "outputs": [
    {
     "data": {
      "text/plain": [
       "array([[  0.,   0.,   0.,   0.,   0.,   0.,   0.,   0.,   0.,   0.,   0.,\n",
       "          0.,   0.,   0.,   0.,   0.,   0.,   0.,   0.,   0.,   0.,   0.,\n",
       "          0.,   0.,   0.,   0.,   0.,   0.],\n",
       "       [  0.,   0.,   0.,   0.,   0.,   0.,   0.,   0.,   0.,   0.,   0.,\n",
       "          0.,   0.,   0.,   0.,   0.,   0.,   0.,   0.,   0.,   0.,   0.,\n",
       "          0.,   0.,   0.,   0.,   0.,   0.],\n",
       "       [  0.,   0.,   0.,   0.,   0.,   0.,   0.,   0.,   0.,   0.,   0.,\n",
       "          0.,   0.,   0.,   0.,   0.,   0.,   0.,   0.,   0.,   0.,   0.,\n",
       "          0.,   0.,   0.,   0.,   0.,   0.],\n",
       "       [  0.,   0.,   0.,   0.,   0.,   0.,   0.,   0.,   0.,   0.,   0.,\n",
       "          0.,   0.,   0.,   0.,   0.,   0.,   0.,   0.,   0.,   0.,   0.,\n",
       "          0.,   0.,   0.,   0.,   0.,   0.],\n",
       "       [  0.,   0.,   0.,   0.,   0.,   0.,   0.,   0.,   0.,   0.,   0.,\n",
       "          0.,   0.,   0.,   0.,   0.,   0.,   0.,   0.,   0.,   0.,   0.,\n",
       "          0.,   0.,   0.,   0.,   0.,   0.],\n",
       "       [  0.,   0.,   0.,   0.,   0.,   0.,   0.,   0.,   0.,   0.,   0.,\n",
       "          0.,   3.,  18.,  18.,  18., 126., 136., 175.,  26., 166., 255.,\n",
       "        247., 127.,   0.,   0.,   0.,   0.],\n",
       "       [  0.,   0.,   0.,   0.,   0.,   0.,   0.,   0.,  30.,  36.,  94.,\n",
       "        154., 170., 253., 253., 253., 253., 253., 225., 172., 253., 242.,\n",
       "        195.,  64.,   0.,   0.,   0.,   0.],\n",
       "       [  0.,   0.,   0.,   0.,   0.,   0.,   0.,  49., 238., 253., 253.,\n",
       "        253., 253., 253., 253., 253., 253., 251.,  93.,  82.,  82.,  56.,\n",
       "         39.,   0.,   0.,   0.,   0.,   0.],\n",
       "       [  0.,   0.,   0.,   0.,   0.,   0.,   0.,  18., 219., 253., 253.,\n",
       "        253., 253., 253., 198., 182., 247., 241.,   0.,   0.,   0.,   0.,\n",
       "          0.,   0.,   0.,   0.,   0.,   0.],\n",
       "       [  0.,   0.,   0.,   0.,   0.,   0.,   0.,   0.,  80., 156., 107.,\n",
       "        253., 253., 205.,  11.,   0.,  43., 154.,   0.,   0.,   0.,   0.,\n",
       "          0.,   0.,   0.,   0.,   0.,   0.],\n",
       "       [  0.,   0.,   0.,   0.,   0.,   0.,   0.,   0.,   0.,  14.,   1.,\n",
       "        154., 253.,  90.,   0.,   0.,   0.,   0.,   0.,   0.,   0.,   0.,\n",
       "          0.,   0.,   0.,   0.,   0.,   0.],\n",
       "       [  0.,   0.,   0.,   0.,   0.,   0.,   0.,   0.,   0.,   0.,   0.,\n",
       "        139., 253., 190.,   2.,   0.,   0.,   0.,   0.,   0.,   0.,   0.,\n",
       "          0.,   0.,   0.,   0.,   0.,   0.],\n",
       "       [  0.,   0.,   0.,   0.,   0.,   0.,   0.,   0.,   0.,   0.,   0.,\n",
       "         11., 190., 253.,  70.,   0.,   0.,   0.,   0.,   0.,   0.,   0.,\n",
       "          0.,   0.,   0.,   0.,   0.,   0.],\n",
       "       [  0.,   0.,   0.,   0.,   0.,   0.,   0.,   0.,   0.,   0.,   0.,\n",
       "          0.,  35., 241., 225., 160., 108.,   1.,   0.,   0.,   0.,   0.,\n",
       "          0.,   0.,   0.,   0.,   0.,   0.],\n",
       "       [  0.,   0.,   0.,   0.,   0.,   0.,   0.,   0.,   0.,   0.,   0.,\n",
       "          0.,   0.,  81., 240., 253., 253., 119.,  25.,   0.,   0.,   0.,\n",
       "          0.,   0.,   0.,   0.,   0.,   0.],\n",
       "       [  0.,   0.,   0.,   0.,   0.,   0.,   0.,   0.,   0.,   0.,   0.,\n",
       "          0.,   0.,   0.,  45., 186., 253., 253., 150.,  27.,   0.,   0.,\n",
       "          0.,   0.,   0.,   0.,   0.,   0.],\n",
       "       [  0.,   0.,   0.,   0.,   0.,   0.,   0.,   0.,   0.,   0.,   0.,\n",
       "          0.,   0.,   0.,   0.,  16.,  93., 252., 253., 187.,   0.,   0.,\n",
       "          0.,   0.,   0.,   0.,   0.,   0.],\n",
       "       [  0.,   0.,   0.,   0.,   0.,   0.,   0.,   0.,   0.,   0.,   0.,\n",
       "          0.,   0.,   0.,   0.,   0.,   0., 249., 253., 249.,  64.,   0.,\n",
       "          0.,   0.,   0.,   0.,   0.,   0.],\n",
       "       [  0.,   0.,   0.,   0.,   0.,   0.,   0.,   0.,   0.,   0.,   0.,\n",
       "          0.,   0.,   0.,  46., 130., 183., 253., 253., 207.,   2.,   0.,\n",
       "          0.,   0.,   0.,   0.,   0.,   0.],\n",
       "       [  0.,   0.,   0.,   0.,   0.,   0.,   0.,   0.,   0.,   0.,   0.,\n",
       "          0.,  39., 148., 229., 253., 253., 253., 250., 182.,   0.,   0.,\n",
       "          0.,   0.,   0.,   0.,   0.,   0.],\n",
       "       [  0.,   0.,   0.,   0.,   0.,   0.,   0.,   0.,   0.,   0.,  24.,\n",
       "        114., 221., 253., 253., 253., 253., 201.,  78.,   0.,   0.,   0.,\n",
       "          0.,   0.,   0.,   0.,   0.,   0.],\n",
       "       [  0.,   0.,   0.,   0.,   0.,   0.,   0.,   0.,  23.,  66., 213.,\n",
       "        253., 253., 253., 253., 198.,  81.,   2.,   0.,   0.,   0.,   0.,\n",
       "          0.,   0.,   0.,   0.,   0.,   0.],\n",
       "       [  0.,   0.,   0.,   0.,   0.,   0.,  18., 171., 219., 253., 253.,\n",
       "        253., 253., 195.,  80.,   9.,   0.,   0.,   0.,   0.,   0.,   0.,\n",
       "          0.,   0.,   0.,   0.,   0.,   0.],\n",
       "       [  0.,   0.,   0.,   0.,  55., 172., 226., 253., 253., 253., 253.,\n",
       "        244., 133.,  11.,   0.,   0.,   0.,   0.,   0.,   0.,   0.,   0.,\n",
       "          0.,   0.,   0.,   0.,   0.,   0.],\n",
       "       [  0.,   0.,   0.,   0., 136., 253., 253., 253., 212., 135., 132.,\n",
       "         16.,   0.,   0.,   0.,   0.,   0.,   0.,   0.,   0.,   0.,   0.,\n",
       "          0.,   0.,   0.,   0.,   0.,   0.],\n",
       "       [  0.,   0.,   0.,   0.,   0.,   0.,   0.,   0.,   0.,   0.,   0.,\n",
       "          0.,   0.,   0.,   0.,   0.,   0.,   0.,   0.,   0.,   0.,   0.,\n",
       "          0.,   0.,   0.,   0.,   0.,   0.],\n",
       "       [  0.,   0.,   0.,   0.,   0.,   0.,   0.,   0.,   0.,   0.,   0.,\n",
       "          0.,   0.,   0.,   0.,   0.,   0.,   0.,   0.,   0.,   0.,   0.,\n",
       "          0.,   0.,   0.,   0.,   0.,   0.],\n",
       "       [  0.,   0.,   0.,   0.,   0.,   0.,   0.,   0.,   0.,   0.,   0.,\n",
       "          0.,   0.,   0.,   0.,   0.,   0.,   0.,   0.,   0.,   0.,   0.,\n",
       "          0.,   0.,   0.,   0.,   0.,   0.]])"
      ]
     },
     "execution_count": 7,
     "metadata": {},
     "output_type": "execute_result"
    }
   ],
   "source": [
    "digit"
   ]
  },
  {
   "cell_type": "code",
   "execution_count": 8,
   "id": "d27de862-ed7d-43f8-83db-73f31eb64cd0",
   "metadata": {},
   "outputs": [
    {
     "data": {
      "text/plain": [
       "<matplotlib.image.AxesImage at 0x17b3cd7c5b0>"
      ]
     },
     "execution_count": 8,
     "metadata": {},
     "output_type": "execute_result"
    },
    {
     "data": {
      "image/png": "[encoded data removed]",
      "text/plain": [
       "<Figure size 432x288 with 1 Axes>"
      ]
     },
     "metadata": {
      "needs_background": "light"
     },
     "output_type": "display_data"
    }
   ],
   "source": [
    "plt.imshow(digit,cmap=\"binary\")"
   ]
  },
  {
   "cell_type": "code",
   "execution_count": 9,
   "id": "09c13d8d-d3bd-4bf3-a691-8ba838ce1bd0",
   "metadata": {},
   "outputs": [],
   "source": [
    "y=y.astype(int)"
   ]
  },
  {
   "cell_type": "code",
   "execution_count": 62,
   "id": "1d2d6fa8-6205-4354-839a-8b351c0a253c",
   "metadata": {},
   "outputs": [],
   "source": [
    "data_5=mnist[\"data\"][:5]"
   ]
  },
  {
   "cell_type": "code",
   "execution_count": 68,
   "id": "32d13561-5cff-4814-b6dd-6a00d620cf40",
   "metadata": {},
   "outputs": [
    {
     "data": {
      "image/png": "[encoded data removed]",
      "text/plain": [
       "<Figure size 432x288 with 5 Axes>"
      ]
     },
     "metadata": {
      "needs_background": "light"
     },
     "output_type": "display_data"
    }
   ],
   "source": [
    "data_5=mnist[\"data\"][:5]\n",
    "fig, axs=plt.subplots(nrows=5)\n",
    "\n",
    "for i, image in enumerate(data_5):\n",
    "    image=image.reshape(28,28)\n",
    "    axs[i].imshow(image)"
   ]
  },
  {
   "cell_type": "markdown",
   "id": "8ba3009a-f921-4b64-9438-69c946d9cd29",
   "metadata": {},
   "source": [
    " ## and preprocess\n"
   ]
  },
  {
   "cell_type": "code",
   "execution_count": 10,
   "id": "6aff6d55-c9c3-4afd-8eb9-33371201e7ef",
   "metadata": {},
   "outputs": [],
   "source": [
    "###training, testing, validation split\n",
    "\n",
    "X_train, X_test, y_train, y_test=X[:60000], X[60000:], y[:60000], y[60000:]"
   ]
  },
  {
   "cell_type": "markdown",
   "id": "ce9a6752-c847-49e2-96fc-11af6d932923",
   "metadata": {},
   "source": [
    "## encode it (encoding was already done for me in RGB numbers!), ***pick a model and train***"
   ]
  },
  {
   "cell_type": "markdown",
   "id": "5c3f6433-92a1-413d-830f-91e5d00dbbce",
   "metadata": {},
   "source": [
    "### Binary Classifier. We classify whether 5 or NOT"
   ]
  },
  {
   "cell_type": "code",
   "execution_count": 11,
   "id": "e7bda636-5c84-438a-a277-a4c92e8300a8",
   "metadata": {},
   "outputs": [],
   "source": [
    "y_train_5=(y_train==5)\n",
    "y_test_5=(y_test==5)"
   ]
  },
  {
   "cell_type": "markdown",
   "id": "e3502746-9ba9-41d8-9cd9-993adb9f75fb",
   "metadata": {},
   "source": [
    "#### Stochastic Gradient Descent (large datasets efficiently)"
   ]
  },
  {
   "cell_type": "code",
   "execution_count": 12,
   "id": "453aa590-3c49-4f73-af8b-efa03a277cc2",
   "metadata": {},
   "outputs": [],
   "source": [
    "from sklearn.linear_model import SGDClassifier"
   ]
  },
  {
   "cell_type": "markdown",
   "id": "7b01e768-05cc-451c-ac0e-2a5a29825c8e",
   "metadata": {},
   "source": [
    "training the model, it is that easy"
   ]
  },
  {
   "cell_type": "code",
   "execution_count": 13,
   "id": "10f7ea6b-676e-4148-baa8-a27b2d92865c",
   "metadata": {},
   "outputs": [
    {
     "data": {
      "text/html": [
       "<style>#sk-container-id-1 {color: black;background-color: white;}#sk-container-id-1 pre{padding: 0;}#sk-container-id-1 div.sk-toggleable {background-color: white;}#sk-container-id-1 label.sk-toggleable__label {cursor: pointer;display: block;width: 100%;margin-bottom: 0;padding: 0.3em;box-sizing: border-box;text-align: center;}#sk-container-id-1 label.sk-toggleable__label-arrow:before {content: \"▸\";float: left;margin-right: 0.25em;color: #696969;}#sk-container-id-1 label.sk-toggleable__label-arrow:hover:before {color: black;}#sk-container-id-1 div.sk-estimator:hover label.sk-toggleable__label-arrow:before {color: black;}#sk-container-id-1 div.sk-toggleable__content {max-height: 0;max-width: 0;overflow: hidden;text-align: left;background-color: #f0f8ff;}#sk-container-id-1 div.sk-toggleable__content pre {margin: 0.2em;color: black;border-radius: 0.25em;background-color: #f0f8ff;}#sk-container-id-1 input.sk-toggleable__control:checked~div.sk-toggleable__content {max-height: 200px;max-width: 100%;overflow: auto;}#sk-container-id-1 input.sk-toggleable__control:checked~label.sk-toggleable__label-arrow:before {content: \"▾\";}#sk-container-id-1 div.sk-estimator input.sk-toggleable__control:checked~label.sk-toggleable__label {background-color: #d4ebff;}#sk-container-id-1 div.sk-label input.sk-toggleable__control:checked~label.sk-toggleable__label {background-color: #d4ebff;}#sk-container-id-1 input.sk-hidden--visually {border: 0;clip: rect(1px 1px 1px 1px);clip: rect(1px, 1px, 1px, 1px);height: 1px;margin: -1px;overflow: hidden;padding: 0;position: absolute;width: 1px;}#sk-container-id-1 div.sk-estimator {font-family: monospace;background-color: #f0f8ff;border: 1px dotted black;border-radius: 0.25em;box-sizing: border-box;margin-bottom: 0.5em;}#sk-container-id-1 div.sk-estimator:hover {background-color: #d4ebff;}#sk-container-id-1 div.sk-parallel-item::after {content: \"\";width: 100%;border-bottom: 1px solid gray;flex-grow: 1;}#sk-container-id-1 div.sk-label:hover label.sk-toggleable__label {background-color: #d4ebff;}#sk-container-id-1 div.sk-serial::before {content: \"\";position: absolute;border-left: 1px solid gray;box-sizing: border-box;top: 0;bottom: 0;left: 50%;z-index: 0;}#sk-container-id-1 div.sk-serial {display: flex;flex-direction: column;align-items: center;background-color: white;padding-right: 0.2em;padding-left: 0.2em;position: relative;}#sk-container-id-1 div.sk-item {position: relative;z-index: 1;}#sk-container-id-1 div.sk-parallel {display: flex;align-items: stretch;justify-content: center;background-color: white;position: relative;}#sk-container-id-1 div.sk-item::before, #sk-container-id-1 div.sk-parallel-item::before {content: \"\";position: absolute;border-left: 1px solid gray;box-sizing: border-box;top: 0;bottom: 0;left: 50%;z-index: -1;}#sk-container-id-1 div.sk-parallel-item {display: flex;flex-direction: column;z-index: 1;position: relative;background-color: white;}#sk-container-id-1 div.sk-parallel-item:first-child::after {align-self: flex-end;width: 50%;}#sk-container-id-1 div.sk-parallel-item:last-child::after {align-self: flex-start;width: 50%;}#sk-container-id-1 div.sk-parallel-item:only-child::after {width: 0;}#sk-container-id-1 div.sk-dashed-wrapped {border: 1px dashed gray;margin: 0 0.4em 0.5em 0.4em;box-sizing: border-box;padding-bottom: 0.4em;background-color: white;}#sk-container-id-1 div.sk-label label {font-family: monospace;font-weight: bold;display: inline-block;line-height: 1.2em;}#sk-container-id-1 div.sk-label-container {text-align: center;}#sk-container-id-1 div.sk-container {/* jupyter's `normalize.less` sets `[hidden] { display: none; }` but bootstrap.min.css set `[hidden] { display: none !important; }` so we also need the `!important` here to be able to override the default hidden behavior on the sphinx rendered scikit-learn.org. See: https://github.com/scikit-learn/scikit-learn/issues/21755 */display: inline-block !important;position: relative;}#sk-container-id-1 div.sk-text-repr-fallback {display: none;}</style><div id=\"sk-container-id-1\" class=\"sk-top-container\"><div class=\"sk-text-repr-fallback\"><pre>SGDClassifier(random_state=42)</pre><b>In a Jupyter environment, please rerun this cell to show the HTML representation or trust the notebook. <br />On GitHub, the HTML representation is unable to render, please try loading this page with nbviewer.org.</b></div><div class=\"sk-container\" hidden><div class=\"sk-item\"><div class=\"sk-estimator sk-toggleable\"><input class=\"sk-toggleable__control sk-hidden--visually\" id=\"sk-estimator-id-1\" type=\"checkbox\" checked><label for=\"sk-estimator-id-1\" class=\"sk-toggleable__label sk-toggleable__label-arrow\">SGDClassifier</label><div class=\"sk-toggleable__content\"><pre>SGDClassifier(random_state=42)</pre></div></div></div></div></div>"
      ],
      "text/plain": [
       "SGDClassifier(random_state=42)"
      ]
     },
     "execution_count": 13,
     "metadata": {},
     "output_type": "execute_result"
    }
   ],
   "source": [
    "sgd_clf=SGDClassifier(random_state=42)\n",
    "sgd_clf.fit(X_train, y_train_5)"
   ]
  },
  {
   "cell_type": "code",
   "execution_count": 14,
   "id": "6534184b-8308-4af7-b38a-3d1311505268",
   "metadata": {},
   "outputs": [
    {
     "data": {
      "text/plain": [
       "7"
      ]
     },
     "execution_count": 14,
     "metadata": {},
     "output_type": "execute_result"
    }
   ],
   "source": [
    "sgd_clf.predict(X[:100]).sum()"
   ]
  },
  {
   "cell_type": "code",
   "execution_count": 15,
   "id": "50f2b3b1-b4fd-4e10-84f3-e723e5e06e87",
   "metadata": {},
   "outputs": [
    {
     "data": {
      "text/plain": [
       "5"
      ]
     },
     "execution_count": 15,
     "metadata": {},
     "output_type": "execute_result"
    }
   ],
   "source": [
    "test=(y[:100]==5)\n",
    "test.sum()"
   ]
  },
  {
   "cell_type": "markdown",
   "id": "cb030fd3-4770-48e8-86ba-0e392c0b7c02",
   "metadata": {},
   "source": [
    "so, a little overfitting going on. now, we gotta evaluate it with different metrics!"
   ]
  },
  {
   "cell_type": "markdown",
   "id": "3691d3ba-05bf-471d-ac7e-9fd88bcab9f3",
   "metadata": {},
   "source": [
    "## Evaluate with different METRICS for Classifiers. \n",
    "For Regressions, we just can take the delta"
   ]
  },
  {
   "cell_type": "markdown",
   "id": "d4373f4b-d4ed-4013-9bfc-1cb94d2913d2",
   "metadata": {},
   "source": [
    "### Cross Validation\n",
    "the idea here is that we take different shuffles of data and use it as train and test from the BIG TRAINING data. To get a better metric, on how the model performs. That is it"
   ]
  },
  {
   "cell_type": "code",
   "execution_count": 16,
   "id": "1eb099b9-c452-41b6-ab29-88b36c01d2e9",
   "metadata": {},
   "outputs": [
    {
     "name": "stdout",
     "output_type": "stream",
     "text": [
      "0.9669\n",
      "0.91625\n",
      "0.96785\n"
     ]
    }
   ],
   "source": [
    "# implementing it myself\n",
    "from sklearn.model_selection import StratifiedKFold\n",
    "from sklearn.base import clone\n",
    "\n",
    "#construct an Object\n",
    "skfolds=StratifiedKFold(n_splits=3, random_state=42,shuffle=True)\n",
    "for train_index, test_index in skfolds.split(X_train, y_train_5):\n",
    "    clone_clf=clone(sgd_clf)\n",
    "    X_train_folds=X_train[train_index]\n",
    "    y_train_folds=y_train_5[train_index]\n",
    "    X_test_fold=X_train[test_index]\n",
    "    y_test_fold=y_train_5[test_index]\n",
    "    clone_clf.fit(X_train_folds, y_train_folds)\n",
    "    y_pred = clone_clf.predict(X_test_fold)\n",
    "    n_correct = sum(y_pred == y_test_fold)\n",
    "    print(n_correct / len(y_pred))"
   ]
  },
  {
   "cell_type": "code",
   "execution_count": 111,
   "id": "e6ffe31b-a33e-41c5-ae81-bcc0bb869508",
   "metadata": {},
   "outputs": [
    {
     "data": {
      "text/plain": [
       "array([0.87365, 0.85835, 0.8689 ])"
      ]
     },
     "execution_count": 111,
     "metadata": {},
     "output_type": "execute_result"
    }
   ],
   "source": [
    "###using the same thing but from sklearn\n",
    "from sklearn.model_selection import cross_val_score\n",
    "cross_val_score(sgd_clf, X_train,y_train,cv=3, scoring=\"accuracy\")"
   ]
  },
  {
   "cell_type": "code",
   "execution_count": 116,
   "id": "da6a34f9-af03-406b-a146-b271ab2f4869",
   "metadata": {},
   "outputs": [],
   "source": [
    "import numpy as np"
   ]
  },
  {
   "cell_type": "code",
   "execution_count": 118,
   "id": "d9cd4a77-f50c-4e3f-9fd5-e4f611594253",
   "metadata": {},
   "outputs": [
    {
     "data": {
      "text/plain": [
       "array([0.91125, 0.90855, 0.90915])"
      ]
     },
     "execution_count": 118,
     "metadata": {},
     "output_type": "execute_result"
    }
   ],
   "source": [
    "####Very dumb classifier that classifies all the images in NOT-5\n",
    "from sklearn.base import BaseEstimator\n",
    "class Never5Class(BaseEstimator):\n",
    "    def fit(self, X,y=None):\n",
    "        pass\n",
    "    def predict(self, X):\n",
    "        return np.zeros((len(X),1),dtype=bool)\n",
    "#basically here happens inheritance form BaseEstimator calss\n",
    "never_5_clf=Never5Class()\n",
    "cross_val_score(never_5_clf, X_train,y_train_5,cv=3, scoring=\"accuracy\")\n",
    "    "
   ]
  },
  {
   "cell_type": "markdown",
   "id": "0bcbb2c6-75ff-47a5-80f1-d08d1773675e",
   "metadata": {},
   "source": [
    "-> ACCURACY IS NOT the best metric for the classifiers!. Especially, when the datasets are skewed, and some values are more frequent than others"
   ]
  },
  {
   "cell_type": "markdown",
   "id": "78f69881-7821-4159-95df-361f3cd27320",
   "metadata": {},
   "source": [
    "### Confusion Matrix"
   ]
  },
  {
   "cell_type": "code",
   "execution_count": 119,
   "id": "871b05dd-f574-432c-bb54-45f73b736283",
   "metadata": {},
   "outputs": [],
   "source": [
    "## for confusion matrix we need something to make predictions on, and there we check, when A was classified as B etc.\n",
    "from sklearn.model_selection import cross_val_predict\n",
    "y_train_pred=cross_val_predict(sgd_clf, X_train, y_train_5, cv=3)"
   ]
  },
  {
   "cell_type": "code",
   "execution_count": 122,
   "id": "dfda8dee-c29e-43b1-aef4-9483e6903c2f",
   "metadata": {},
   "outputs": [
    {
     "data": {
      "text/plain": [
       "(60000,)"
      ]
     },
     "execution_count": 122,
     "metadata": {},
     "output_type": "execute_result"
    }
   ],
   "source": [
    "y_train_pred.shape"
   ]
  },
  {
   "cell_type": "code",
   "execution_count": 124,
   "id": "6d713512-1299-452d-b2f7-b6b5ffc28c6d",
   "metadata": {},
   "outputs": [
    {
     "data": {
      "text/plain": [
       "array([[53892,   687],\n",
       "       [ 1891,  3530]], dtype=int64)"
      ]
     },
     "execution_count": 124,
     "metadata": {},
     "output_type": "execute_result"
    }
   ],
   "source": [
    "from sklearn.metrics import confusion_matrix\n",
    "confusion_matrix(y_train_5, y_train_pred)"
   ]
  },
  {
   "cell_type": "markdown",
   "id": "5e6f3b2b-9440-4a3f-86cc-9d720dbe2562",
   "metadata": {},
   "source": [
    "#here: each row represents actual class (first non5, then 5), each row the predicted class: 5 not 5.\n",
    "#so, we have 53892 non5 and we said it is non5 (true negative), 687 non5, but we said it is 5 (false negative)\n",
    "####1891 5 we said non5 (false positive), 3530 non5 and we said non5 (true positive)"
   ]
  },
  {
   "cell_type": "markdown",
   "id": "9497b9f4-ab90-40a3-b068-e6ff8d0057e5",
   "metadata": {},
   "source": [
    "### Presicion and Recall"
   ]
  },
  {
   "cell_type": "markdown",
   "id": "43c2c58d-d2b9-4e8e-9606-766ef742eb97",
   "metadata": {},
   "source": [
    "presicion=TP/(TP+FP) \n",
    "meaning: what percentage of prediction we said it is positive (5)\n",
    "caiat=it can have only one positive prediciton, which is right. so, there maybe many negative predictions wrong\n",
    "\n",
    "recall=TP/(TP+FN) \n",
    "meaning: what percentage of the actual positive we got right!\n"
   ]
  },
  {
   "cell_type": "markdown",
   "id": "257054de-7b36-45cf-8ada-fb98d318484e",
   "metadata": {},
   "source": [
    "![](images/confusion_matrix.png)"
   ]
  },
  {
   "cell_type": "code",
   "execution_count": 132,
   "id": "ea362cfd-7ff4-48ac-9a81-6d89c3d3a5bc",
   "metadata": {},
   "outputs": [
    {
     "name": "stdout",
     "output_type": "stream",
     "text": [
      "0.8370879772350012\n",
      "0.6511713705958311\n"
     ]
    }
   ],
   "source": [
    "##commpute it\n",
    "from sklearn.metrics import precision_score, recall_score\n",
    "\n",
    "print(precision_score(y_train_5,y_train_pred))\n",
    "print(recall_score(y_train_5, y_train_pred))"
   ]
  },
  {
   "cell_type": "markdown",
   "id": "9781959b-8281-433f-97ed-3973d47b9b04",
   "metadata": {},
   "source": [
    "#meaning: from the actual 5 we guessed only 65% right, which is not too good\n",
    "#and when we guess a thing is true, we are right in 84%.\n",
    "#so, precision is a metric of our own predicions, recall, is how that measures to a bigger pictre of all the positive!\n",
    "\n",
    "#and of course, had we had less 5, lets say only a small part, then by using a confusion matrix, we can understand what is right"
   ]
  },
  {
   "cell_type": "markdown",
   "id": "ffb39008-a8a5-489d-bbfc-fc97d6540f41",
   "metadata": {},
   "source": [
    "#### F1 Metric\n",
    "F1 combines precision and recall together"
   ]
  },
  {
   "cell_type": "markdown",
   "id": "fc594a76-5b3a-4158-b496-48d54bd5e227",
   "metadata": {},
   "source": [
    "#harmonic, cause we want to give more weights to low values\n",
    "![](images/F1.png)"
   ]
  },
  {
   "cell_type": "markdown",
   "id": "20af4859-9e1e-4af0-ad88-5262219a2d1e",
   "metadata": {},
   "source": [
    "so, I get at 73.3% with my numbers\n",
    "the higher the number the higher are precision and recall"
   ]
  },
  {
   "cell_type": "code",
   "execution_count": 134,
   "id": "fff37653-0be3-4dd2-b203-729d649a6de6",
   "metadata": {},
   "outputs": [
    {
     "data": {
      "text/plain": [
       "0.7325171197343846"
      ]
     },
     "execution_count": 134,
     "metadata": {},
     "output_type": "execute_result"
    }
   ],
   "source": [
    "from sklearn.metrics import f1_score\n",
    "f1_score(y_train_5, y_train_pred)"
   ]
  },
  {
   "cell_type": "markdown",
   "id": "266b7cc2-beca-4a15-a891-aa164c80fe3c",
   "metadata": {},
   "source": [
    "### Precision/Recall Trade-Off"
   ]
  },
  {
   "cell_type": "markdown",
   "id": "d094ef36-b96a-49d0-9171-b9a7f9b102ae",
   "metadata": {},
   "source": [
    "the SGD Classifier makes its decisions by computing score based on a decision function. if the score is greater than a threshold -> postive,\n",
    "otherwise -> negative\n",
    "if you higher the threshold, you get more basically more 5, so precision goes high, but you have left out some not 5s (that did not have that high certainty), and so you get lower recall.\n",
    "And vice versa for lower threshold.\n",
    "So, it all depends on what you want to acheive!"
   ]
  },
  {
   "cell_type": "code",
   "execution_count": 136,
   "id": "d4d30e61-b2cc-4bd2-8eab-77cecc000f55",
   "metadata": {},
   "outputs": [],
   "source": [
    "y_scores=sgd_clf.decision_function([X[0]])"
   ]
  },
  {
   "cell_type": "code",
   "execution_count": 137,
   "id": "c67c62ad-7039-45a6-bdb8-f051f4067fc6",
   "metadata": {},
   "outputs": [
    {
     "data": {
      "text/plain": [
       "array([2164.22030239])"
      ]
     },
     "execution_count": 137,
     "metadata": {},
     "output_type": "execute_result"
    }
   ],
   "source": [
    "y_scores\n",
    "#this is the score (the certainty, that was assigned to it from the classifier)"
   ]
  },
  {
   "cell_type": "code",
   "execution_count": 139,
   "id": "edb74fff-1cb2-4e0f-8994-f060566bd095",
   "metadata": {},
   "outputs": [],
   "source": [
    "y_scores=cross_val_predict(sgd_clf,X_train,y_train_5,cv=4, method=\"decision_function\")\n",
    "#before we did it with true or false. EVERYTHING HERE IS ONLY ON THE TRAINING SET; NOT ON TESTING!"
   ]
  },
  {
   "cell_type": "code",
   "execution_count": 146,
   "id": "bade6a97-4a60-4a14-8cec-647630029dd7",
   "metadata": {},
   "outputs": [
    {
     "data": {
      "text/plain": [
       "5"
      ]
     },
     "execution_count": 146,
     "metadata": {},
     "output_type": "execute_result"
    }
   ],
   "source": [
    "d=y_scores[:100]>0\n",
    "d.sum()"
   ]
  },
  {
   "cell_type": "code",
   "execution_count": 153,
   "id": "8072d8b9-aa5f-4b30-8c9b-8a74fe1885fe",
   "metadata": {},
   "outputs": [],
   "source": [
    "#and then we do precision_recall_function() to compute different precicison and recall for different thresholds\n",
    "from sklearn.metrics import precision_recall_curve\n",
    "precisions, recalls, thresholds=precision_recall_curve(y_train_5, y_scores)"
   ]
  },
  {
   "cell_type": "code",
   "execution_count": 163,
   "id": "3aebaf6d-a369-456a-9782-4e84aab268f0",
   "metadata": {},
   "outputs": [
    {
     "data": {
      "text/plain": [
       "array([0.89473684, 0.88888889, 0.88235294, 0.875     , 0.86666667,\n",
       "       0.85714286, 0.84615385, 0.83333333, 0.81818182, 0.8       ,\n",
       "       0.77777778, 0.75      , 0.71428571, 0.66666667, 0.6       ,\n",
       "       0.5       , 0.66666667, 0.5       , 1.        , 1.        ])"
      ]
     },
     "execution_count": 163,
     "metadata": {},
     "output_type": "execute_result"
    }
   ],
   "source": [
    "precisions[-20:]"
   ]
  },
  {
   "cell_type": "code",
   "execution_count": 161,
   "id": "74dd5c6e-8bf5-4c05-851b-c9343edc3447",
   "metadata": {},
   "outputs": [
    {
     "data": {
      "image/png": "[encoded data removed]",
      "text/plain": [
       "<Figure size 576x288 with 1 Axes>"
      ]
     },
     "metadata": {
      "needs_background": "light"
     },
     "output_type": "display_data"
    }
   ],
   "source": [
    "def plot_precision_recall_vs_threshold(precisions, recalls, thresholds):\n",
    "    plt.plot(thresholds, precisions[:-1], \"b--\", label=\"Precision\", linewidth=2)\n",
    "    plt.plot(thresholds, recalls[:-1], \"g-\", label=\"Recall\", linewidth=2)\n",
    "    plt.legend(loc=\"center right\", fontsize=16) # Not shown in the book\n",
    "    plt.xlabel(\"Threshold\", fontsize=16)        # Not shown\n",
    "    plt.grid(True)                              # Not shown\n",
    "    plt.axis([-50000, 50000, 0, 1])             # Not shown\n",
    "\n",
    "\n",
    "recall_90_precision = recalls[np.argmax(precisions >= 0.90)]\n",
    "threshold_90_precision = thresholds[np.argmax(precisions >= 0.90)]\n",
    "\n",
    "\n",
    "plt.figure(figsize=(8, 4))                                                                  # Not shown\n",
    "plot_precision_recall_vs_threshold(precisions, recalls, thresholds)\n",
    "plt.plot([threshold_90_precision, threshold_90_precision], [0., 0.9], \"r:\")                 # Not shown\n",
    "#plt.plot([-50000, threshold_90_precision], [0.9, 0.9], \"r:\")                                # Not shown\n",
    "#plt.plot([-50000, threshold_90_precision], [recall_90_precision, recall_90_precision], \"r:\")# Not shown\n",
    "#plt.plot([threshold_90_precision], [0.9], \"ro\")                                             # Not shown\n",
    "#plt.plot([threshold_90_precision], [recall_90_precision], \"ro\")                             # Not shown\n",
    "#save_fig(\"precision_recall_vs_threshold_plot\")                                              # Not shown\n",
    "plt.show()"
   ]
  },
  {
   "cell_type": "markdown",
   "id": "81b5af30-c65f-4669-a528-09fd95fae856",
   "metadata": {},
   "source": [
    "from the Book: precision can go down, when you raise the threshold, because sometimes there are more bad numbers left. So, it is totally NORMAL!\n",
    "But the recall can only go down, cause there are less values with higher threshold, that is why the curve is SMOOTH!"
   ]
  },
  {
   "cell_type": "code",
   "execution_count": 165,
   "id": "987adca3-e246-4ce1-baf3-fd38873bf153",
   "metadata": {},
   "outputs": [
    {
     "data": {
      "image/png": "[encoded data removed]",
      "text/plain": [
       "<Figure size 576x432 with 1 Axes>"
      ]
     },
     "metadata": {
      "needs_background": "light"
     },
     "output_type": "display_data"
    }
   ],
   "source": [
    "##or to plot precision against recall:\n",
    "#threshold of 90% precision is highlighted\n",
    "\n",
    "def plot_precision_vs_recall(precisions, recalls):\n",
    "    plt.plot(recalls, precisions, \"b-\", linewidth=2)\n",
    "    plt.xlabel(\"Recall\", fontsize=16)\n",
    "    plt.ylabel(\"Precision\", fontsize=16)\n",
    "    plt.axis([0, 1, 0, 1])\n",
    "    plt.grid(True)\n",
    "\n",
    "plt.figure(figsize=(8, 6))\n",
    "plot_precision_vs_recall(precisions, recalls)\n",
    "plt.plot([recall_90_precision, recall_90_precision], [0., 0.9], \"r:\")\n",
    "plt.plot([0.0, recall_90_precision], [0.9, 0.9], \"r:\")\n",
    "plt.plot([recall_90_precision], [0.9], \"ro\")\n",
    "#save_fig(\"precision_vs_recall_plot\")\n",
    "plt.show()"
   ]
  },
  {
   "cell_type": "markdown",
   "id": "c815abff-e707-4667-a94d-10fb0f1f340f",
   "metadata": {},
   "source": [
    "recall falls when precision hits 80%, so, it is better to select it before the drop, at around 60% recall. but it is dependent on the project.\n",
    "if I wanted to have 90% precision, "
   ]
  },
  {
   "cell_type": "code",
   "execution_count": 169,
   "id": "c37c5693-d1fd-4283-bce9-d764a19d243f",
   "metadata": {},
   "outputs": [],
   "source": [
    "threshold_90_precision = thresholds[np.argmax(precisions >= 0.90)]\n",
    "#that is the threshold of 90% precision, looks good\n",
    "\n",
    "#and to make the predicictions, you would then add another layer of decision making after the classifier"
   ]
  },
  {
   "cell_type": "code",
   "execution_count": 170,
   "id": "23ee69df-efbb-4f70-8bb2-c1fd26d7b303",
   "metadata": {},
   "outputs": [],
   "source": [
    "y_train_pred_90 = (y_scores >= threshold_90_precision)"
   ]
  },
  {
   "cell_type": "code",
   "execution_count": 171,
   "id": "73eb39d8-1994-48fc-a87e-c93328b8532f",
   "metadata": {},
   "outputs": [
    {
     "data": {
      "text/plain": [
       "array([ True, False, False, ...,  True, False, False])"
      ]
     },
     "execution_count": 171,
     "metadata": {},
     "output_type": "execute_result"
    }
   ],
   "source": [
    "y_train_pred_90"
   ]
  },
  {
   "cell_type": "code",
   "execution_count": 172,
   "id": "61043ddc-7ced-4196-920f-ac2be2e7f2a3",
   "metadata": {},
   "outputs": [
    {
     "data": {
      "text/plain": [
       "0.9000989119683481"
      ]
     },
     "execution_count": 172,
     "metadata": {},
     "output_type": "execute_result"
    }
   ],
   "source": [
    "precision_score(y_train_5, y_train_pred_90)"
   ]
  },
  {
   "cell_type": "code",
   "execution_count": 173,
   "id": "7652c1d3-2da7-4e29-84aa-5a693793ed61",
   "metadata": {},
   "outputs": [
    {
     "data": {
      "text/plain": [
       "0.6714628297362111"
      ]
     },
     "execution_count": 173,
     "metadata": {},
     "output_type": "execute_result"
    }
   ],
   "source": [
    "recall_score(y_train_5, y_train_pred_90)"
   ]
  },
  {
   "cell_type": "markdown",
   "id": "1ede19f5-0c4a-4185-a496-71a1a27f5729",
   "metadata": {},
   "source": [
    "### ROC Curve\n",
    "similiar to precision vs recall. \n",
    "But now we plot the true positive rate (recall - the second row) against the false positive rate (FRP) (first row).\n",
    "The FRP is the ratio of negative instances that are incorrectly classified as positive (FP/(FP+TN)).\n",
    "\n",
    "----------------------\n",
    "An ROC curve plots TPR vs. FPR at different classification thresholds, that is why we get different values\n",
    "\n",
    "Lowering the classification threshold classifies more items as positive, thus increasing both False Positives and True Positives. If you higher the threshold, the recall gets lower, and the FP gets lower, while TN and FN get higher!"
   ]
  },
  {
   "cell_type": "code",
   "execution_count": 184,
   "id": "58d732a3-4252-4d4b-891b-e6725a3abeaf",
   "metadata": {},
   "outputs": [],
   "source": [
    "from sklearn.metrics import roc_curve\n",
    "\n",
    "fpr, tpr, thresholds = roc_curve(y_train_5, y_scores)\n",
    "\n",
    "#so, depending on the threshold we have different fpr and tpr\n",
    "#tpr is RECALL! NOT PRECISION! What are the TP compare to all the others POSITIVES!\n",
    "#fpr is what are FP compare to all other negatives! "
   ]
  },
  {
   "cell_type": "code",
   "execution_count": 186,
   "id": "d38d409a-aa64-440d-a3d9-65297323e237",
   "metadata": {},
   "outputs": [
    {
     "data": {
      "image/png": "[encoded data removed]",
      "text/plain": [
       "<Figure size 576x432 with 1 Axes>"
      ]
     },
     "metadata": {
      "needs_background": "light"
     },
     "output_type": "display_data"
    }
   ],
   "source": [
    "def plot_roc_curve(fpr, tpr, label=None):\n",
    "    plt.plot(fpr, tpr, linewidth=2, label=label)\n",
    "    plt.plot([0, 1], [0, 1], 'k--') # dashed diagonal\n",
    "    plt.axis([0, 1, 0, 1])                                    # Not shown in the book\n",
    "    plt.xlabel('False Positive Rate (Fall-Out)', fontsize=16) # Not shown\n",
    "    plt.ylabel('True Positive Rate (Recall)', fontsize=16)    # Not shown\n",
    "    plt.grid(True)                                            # Not shown\n",
    "\n",
    "plt.figure(figsize=(8, 6))                                    # Not shown\n",
    "plot_roc_curve(fpr, tpr)\n",
    "fpr_90 = fpr[np.argmax(tpr >= recall_90_precision)]           # Not shown\n",
    "plt.plot([fpr_90, fpr_90], [0., recall_90_precision], \"r:\")   # Not shown\n",
    "plt.plot([0.0, fpr_90], [recall_90_precision, recall_90_precision], \"r:\")  # Not shown\n",
    "plt.plot([fpr_90], [recall_90_precision], \"ro\")               # Not shown\n",
    "#save_fig(\"roc_curve_plot\")                                    # Not shown\n",
    "plt.show()"
   ]
  },
  {
   "cell_type": "markdown",
   "id": "728aa647-f2a7-4e83-a0c6-7d1f324e80b2",
   "metadata": {},
   "source": [
    "and when we know take it a level lower, the higher the TPR, the more False Positves we produce, because the thresholds gets lower!!!\n",
    "And so the best way is to get higher recall, without getting a lot of False Positives. \n",
    "that is why we want to have an AUC higher.\n",
    "\n",
    "if you are random, you get close to a dotted line - the same true positives as false positives -> 50% accuracy"
   ]
  },
  {
   "cell_type": "code",
   "execution_count": 193,
   "id": "3854b5d4-232d-4f44-93e4-87e4c389aa27",
   "metadata": {},
   "outputs": [
    {
     "data": {
      "text/plain": [
       "0.9614697242202009"
      ]
     },
     "execution_count": 193,
     "metadata": {},
     "output_type": "execute_result"
    }
   ],
   "source": [
    "from sklearn.metrics import roc_auc_score\n",
    "roc_auc_score(y_train_5, y_scores)"
   ]
  },
  {
   "cell_type": "markdown",
   "id": "3016533c-1d08-4b25-956e-7569acb59ff8",
   "metadata": {},
   "source": [
    "#### Random Forest classifier"
   ]
  },
  {
   "cell_type": "code",
   "execution_count": 194,
   "id": "b0f28612-899e-4136-973d-0084305a9847",
   "metadata": {},
   "outputs": [],
   "source": [
    "from sklearn.ensemble import RandomForestClassifier\n",
    "forest_clf=RandomForestClassifier(random_state=42)\n",
    "y_probas_forest=cross_val_predict(forest_clf, X_train,y_train_5, cv=3,method=\"predict_proba\")"
   ]
  },
  {
   "cell_type": "code",
   "execution_count": 199,
   "id": "6703bd13-b59c-427a-bd81-b7d9be6c9d94",
   "metadata": {},
   "outputs": [],
   "source": [
    "y_scores_forest = y_probas_forest[:, 1] # score = proba of positive class\n",
    "fpr_forest, tpr_forest, thresholds_forest = roc_curve(y_train_5,y_scores_forest)"
   ]
  },
  {
   "cell_type": "code",
   "execution_count": 201,
   "id": "e4fdc756-3e12-4b85-ad27-12f868ac1e3d",
   "metadata": {},
   "outputs": [
    {
     "data": {
      "image/png": "[encoded data removed]",
      "text/plain": [
       "<Figure size 576x432 with 1 Axes>"
      ]
     },
     "metadata": {
      "needs_background": "light"
     },
     "output_type": "display_data"
    }
   ],
   "source": [
    "recall_for_forest = tpr_forest[np.argmax(fpr_forest >= fpr_90)]\n",
    "\n",
    "plt.figure(figsize=(8, 6))\n",
    "plt.plot(fpr, tpr, \"b:\", linewidth=2, label=\"SGD\")\n",
    "plot_roc_curve(fpr_forest, tpr_forest, \"Random Forest\")\n",
    "plt.plot([fpr_90, fpr_90], [0., recall_90_precision], \"r:\")\n",
    "plt.plot([0.0, fpr_90], [recall_90_precision, recall_90_precision], \"r:\")\n",
    "plt.plot([fpr_90], [recall_90_precision], \"ro\")\n",
    "plt.plot([fpr_90, fpr_90], [0., recall_for_forest], \"r:\")\n",
    "plt.plot([fpr_90], [recall_for_forest], \"ro\")\n",
    "plt.grid(True)\n",
    "plt.legend(loc=\"lower right\", fontsize=16)\n",
    "#save_fig(\"roc_curve_comparison_plot\")\n",
    "plt.show()"
   ]
  },
  {
   "cell_type": "code",
   "execution_count": 203,
   "id": "21e6e511-e946-442d-b55e-dc0891de0812",
   "metadata": {},
   "outputs": [
    {
     "name": "stdout",
     "output_type": "stream",
     "text": [
      "0.9905083315756169\n",
      "0.8662608374838591\n"
     ]
    }
   ],
   "source": [
    "from sklearn.metrics import precision_score, recall_score\n",
    "\n",
    "y_pred=(y_scores_forest>0.5)\n",
    "\n",
    "print(precision_score(y_train_5,y_pred))\n",
    "print(recall_score(y_train_5, y_pred))"
   ]
  },
  {
   "cell_type": "markdown",
   "id": "98231b95-60bd-44c8-9e5d-207ea52b43d1",
   "metadata": {},
   "source": [
    "## Multiclass Classification\n",
    "\n",
    "classifying not only whether it is 5 or not, but all other numbers 0-9"
   ]
  },
  {
   "cell_type": "code",
   "execution_count": 206,
   "id": "55ed6bfb-e539-4a6c-920e-68ca889d9557",
   "metadata": {},
   "outputs": [
    {
     "data": {
      "text/plain": [
       "array([5])"
      ]
     },
     "execution_count": 206,
     "metadata": {},
     "output_type": "execute_result"
    }
   ],
   "source": [
    "from sklearn.svm  import SVC\n",
    "\n",
    "svm_clf=SVC(gamma=\"auto\", random_state=42)\n",
    "svm_clf.fit(X_train[:1000], y_train[:1000])\n",
    "svm_clf.predict([X[0]])"
   ]
  },
  {
   "cell_type": "code",
   "execution_count": 213,
   "id": "f62b645d-7b25-4c1f-97ff-d0d5970bf2e4",
   "metadata": {},
   "outputs": [
    {
     "data": {
      "text/plain": [
       "array([[ 3.82760119,  9.29995923,  4.84239684,  1.80408497,  6.90366992,\n",
       "         0.79908447,  2.80938404,  8.10392157, -0.22130643,  5.85060746]])"
      ]
     },
     "execution_count": 213,
     "metadata": {},
     "output_type": "execute_result"
    }
   ],
   "source": [
    "svm_clf.decision_function([X[3]])"
   ]
  },
  {
   "cell_type": "code",
   "execution_count": 211,
   "id": "e850bc8d-3171-4de1-90aa-c98f8834191b",
   "metadata": {},
   "outputs": [
    {
     "data": {
      "text/plain": [
       "array([5, 0, 4, 1, 9, 2, 1, 3, 1, 4])"
      ]
     },
     "execution_count": 211,
     "metadata": {},
     "output_type": "execute_result"
    }
   ],
   "source": [
    "y[:10]"
   ]
  },
  {
   "cell_type": "code",
   "execution_count": 217,
   "id": "efef5c28-bb82-4808-b582-3c3375bef375",
   "metadata": {},
   "outputs": [
    {
     "data": {
      "text/plain": [
       "array([0, 1, 2, 3, 4, 5, 6, 7, 8, 9])"
      ]
     },
     "execution_count": 217,
     "metadata": {},
     "output_type": "execute_result"
    }
   ],
   "source": [
    "svm_clf.classes_"
   ]
  },
  {
   "cell_type": "code",
   "execution_count": 219,
   "id": "1249e258-a443-4a61-94be-bfb3b8d56d30",
   "metadata": {},
   "outputs": [
    {
     "data": {
      "text/plain": [
       "array([5])"
      ]
     },
     "execution_count": 219,
     "metadata": {},
     "output_type": "execute_result"
    }
   ],
   "source": [
    "from sklearn.multiclass import OneVsRestClassifier\n",
    "ovr_clf = OneVsRestClassifier(SVC(gamma=\"auto\", random_state=42))\n",
    "ovr_clf.fit(X_train[:1000], y_train[:1000])\n",
    "ovr_clf.predict([X[0]])"
   ]
  },
  {
   "cell_type": "code",
   "execution_count": 220,
   "id": "bcf28188-aa52-4e90-b976-00b0ad1ff429",
   "metadata": {},
   "outputs": [
    {
     "data": {
      "text/plain": [
       "array([[-1.00000216,  0.13122172, -0.99949709, -1.00000323, -0.99986906,\n",
       "        -0.99926435, -0.99976287, -0.99933311, -0.99943631, -0.99924045]])"
      ]
     },
     "execution_count": 220,
     "metadata": {},
     "output_type": "execute_result"
    }
   ],
   "source": [
    "ovr_clf.decision_function([X[3]])"
   ]
  },
  {
   "cell_type": "code",
   "execution_count": null,
   "id": "0c62a60d-0f0b-4c14-a9cd-639777a4762f",
   "metadata": {},
   "outputs": [],
   "source": [
    "cross_val_score(ovr_clf, X_train, y_train, cv=3, scoring=\"accuracy\")"
   ]
  },
  {
   "cell_type": "code",
   "execution_count": null,
   "id": "31f6824b-3a4a-4bf0-81d3-75834a6907a6",
   "metadata": {},
   "outputs": [],
   "source": [
    "from sklearn.preprocessing import StandardScaler\n",
    "scaler = StandardScaler()\n",
    "X_train_scaled = scaler.fit_transform(X_train.astype(np.float64))"
   ]
  },
  {
   "cell_type": "code",
   "execution_count": null,
   "id": "acef423b-b98a-42c1-91cc-0f2b271444b6",
   "metadata": {},
   "outputs": [],
   "source": []
  },
  {
   "cell_type": "code",
   "execution_count": null,
   "id": "ff92622c-1358-4c1b-a9ee-d7cb726411a0",
   "metadata": {},
   "outputs": [],
   "source": []
  },
  {
   "cell_type": "markdown",
   "id": "c3d5c34e-4291-45b7-95f0-a6cc434747da",
   "metadata": {},
   "source": []
  },
  {
   "cell_type": "markdown",
   "id": "e22bebfd-24b2-4434-9c04-6474a9383f6d",
   "metadata": {},
   "source": [
    "## fine tune a model"
   ]
  },
  {
   "cell_type": "code",
   "execution_count": null,
   "id": "6a128b56-ceee-44a1-a560-b7a05e9e53e8",
   "metadata": {},
   "outputs": [],
   "source": []
  },
  {
   "cell_type": "markdown",
   "id": "177de0fd-9442-43ed-9ea4-52f2ed5ab174",
   "metadata": {},
   "source": [
    "## test_data"
   ]
  },
  {
   "cell_type": "code",
   "execution_count": 19,
   "id": "62fa407c-ce69-4f09-8f33-7bcce2c036e3",
   "metadata": {},
   "outputs": [
    {
     "name": "stdout",
     "output_type": "stream",
     "text": [
      "FJfjk\n",
      "1\n",
      "2\n",
      "FJfjk\n",
      "4\n",
      "5\n",
      "FJfjk\n",
      "7\n",
      "8\n",
      "FJfjk\n",
      "10\n",
      "11\n",
      "FJfjk\n",
      "13\n",
      "14\n",
      "FJfjk\n",
      "16\n",
      "17\n",
      "FJfjk\n",
      "19\n",
      "20\n",
      "FJfjk\n",
      "22\n",
      "23\n",
      "FJfjk\n",
      "25\n",
      "26\n",
      "FJfjk\n",
      "28\n",
      "29\n",
      "FJfjk\n",
      "31\n",
      "32\n",
      "FJfjk\n",
      "34\n",
      "35\n",
      "FJfjk\n",
      "37\n",
      "38\n",
      "FJfjk\n",
      "40\n",
      "41\n",
      "FJfjk\n",
      "43\n",
      "44\n",
      "FJfjk\n",
      "46\n",
      "47\n",
      "FJfjk\n",
      "49\n",
      "50\n"
     ]
    }
   ],
   "source": [
    "\n",
    "\n",
    "for i in range(51):\n",
    "    if i%3==0:\n",
    "        print(\"FJfjk\")\n",
    "        continue\n",
    "    print(i)"
   ]
  },
  {
   "cell_type": "code",
   "execution_count": null,
   "id": "111aa07c-8ef6-474d-a584-56b80472a4c9",
   "metadata": {},
   "outputs": [],
   "source": []
  }
 ],
 "metadata": {
  "kernelspec": {
   "display_name": "Python 3 (ipykernel)",
   "language": "python",
   "name": "python3"
  },
  "language_info": {
   "codemirror_mode": {
    "name": "ipython",
    "version": 3
   },
   "file_extension": ".py",
   "mimetype": "text/x-python",
   "name": "python",
   "nbconvert_exporter": "python",
   "pygments_lexer": "ipython3",
   "version": "3.8.8"
  }
 },
 "nbformat": 4,
 "nbformat_minor": 5
}
